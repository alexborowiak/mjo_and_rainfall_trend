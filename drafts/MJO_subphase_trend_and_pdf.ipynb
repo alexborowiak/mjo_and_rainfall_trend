{
 "cells": [
  {
   "cell_type": "markdown",
   "metadata": {},
   "source": [
    "# Notebook Description"
   ]
  },
  {
   "cell_type": "markdown",
   "metadata": {},
   "source": [
    "This notebook is concerned with producing maps of the rainfall trends in the MJO phases (1-8) and the MJO subphases (enhanced, suppressed ect.).\n",
    "<br>\n",
    "This is done in the following order:\n",
    "<ol>\n",
    "    <li> AWAP and RMM data is loaded in. </li>\n",
    "    <li> Data from start of year is moved to previous year, making resampling work for individual years.</li>\n",
    "    <li> Data is split into different MJO phases (1-8). </li>\n",
    "    <li> Indices (count and sum) are calculated for data. </li>\n",
    "    <li> Phases are then compbined together to subphases.</li>\n",
    "    <li> Trends then calculated for subphases.</li>\n",
    "    \n",
    "</ol>"
   ]
  },
  {
   "cell_type": "markdown",
   "metadata": {},
   "source": [
    "# Packages"
   ]
  },
  {
   "cell_type": "code",
   "execution_count": 2,
   "metadata": {
    "ExecuteTime": {
     "end_time": "2020-04-09T04:07:29.886482Z",
     "start_time": "2020-04-09T04:07:23.399559Z"
    }
   },
   "outputs": [],
   "source": [
    "import xarray as xr\n",
    "import numpy as np\n",
    "import pandas as pd\n",
    "import matplotlib.pyplot as plt\n",
    "import dask.array\n",
    "import cartopy.crs as ccrs\n",
    "import matplotlib.colors as colors\n",
    "import datetime as dt\n",
    "from matplotlib.colors import BoundaryNorm\n",
    "rb = plt.cm.RdBu\n",
    "bm = plt.cm.Blues\n",
    "best_blue = '#9bc2d5'\n",
    "recherche_red = '#fbc4aa'\n",
    "wondeful_white = '#f8f8f7'\n",
    "import glob\n",
    "import pdb\n",
    "\n",
    "import warnings\n",
    "warnings.filterwarnings('ignore')\n",
    "\n",
    "import matplotlib.gridspec as gridspec"
   ]
  },
  {
   "cell_type": "code",
   "execution_count": 3,
   "metadata": {
    "ExecuteTime": {
     "end_time": "2020-04-09T04:07:30.572450Z",
     "start_time": "2020-04-09T04:07:29.889285Z"
    }
   },
   "outputs": [],
   "source": [
    "import sys\n",
    "from importlib import reload\n",
    "sys.path.append('')\n",
    "\n",
    "# This is for loading in all the data sets that have been used in this study.\n",
    "import load_dataset as load\n",
    "\n",
    "# For splitting all of the data sets into the different phases.\n",
    "import phase_calc_functions as phase_calc\n",
    "\n",
    "# Collection of functions for plotting MJO phases.\n",
    "import phase_plot_functions as phase_plot\n",
    "from miscellaneous import apply_masks"
   ]
  },
  {
   "cell_type": "code",
   "execution_count": 4,
   "metadata": {},
   "outputs": [],
   "source": [
    "image_dir = '../images/mjo_and_rainfall_trend_images/'"
   ]
  },
  {
   "cell_type": "markdown",
   "metadata": {},
   "source": [
    "# Data"
   ]
  },
  {
   "cell_type": "code",
   "execution_count": 5,
   "metadata": {
    "ExecuteTime": {
     "end_time": "2020-04-09T04:08:22.667697Z",
     "start_time": "2020-04-09T04:07:30.574910Z"
    }
   },
   "outputs": [
    {
     "data": {
      "text/plain": [
       "(6962, 6962)"
      ]
     },
     "execution_count": 5,
     "metadata": {},
     "output_type": "execute_result"
    }
   ],
   "source": [
    "# Loading awap\n",
    "awap = load.load_awap()\n",
    "\n",
    "# Loading RMM\n",
    "rmm = load.load_rmm()\n",
    "\n",
    "# Making sure the two are the same length\n",
    "awap = awap.where(awap.time.isin(rmm.time.values), drop = True)\n",
    "rmm = rmm.where(rmm.time.isin(awap.time.values), drop = True)\n",
    "len(awap.time.values), len(rmm.time.values)"
   ]
  },
  {
   "cell_type": "code",
   "execution_count": 6,
   "metadata": {},
   "outputs": [
    {
     "data": {
      "text/html": [
       "<div><svg style=\"position: absolute; width: 0; height: 0; overflow: hidden\">\n",
       "<defs>\n",
       "<symbol id=\"icon-database\" viewBox=\"0 0 32 32\">\n",
       "<path d=\"M16 0c-8.837 0-16 2.239-16 5v4c0 2.761 7.163 5 16 5s16-2.239 16-5v-4c0-2.761-7.163-5-16-5z\"></path>\n",
       "<path d=\"M16 17c-8.837 0-16-2.239-16-5v6c0 2.761 7.163 5 16 5s16-2.239 16-5v-6c0 2.761-7.163 5-16 5z\"></path>\n",
       "<path d=\"M16 26c-8.837 0-16-2.239-16-5v6c0 2.761 7.163 5 16 5s16-2.239 16-5v-6c0 2.761-7.163 5-16 5z\"></path>\n",
       "</symbol>\n",
       "<symbol id=\"icon-file-text2\" viewBox=\"0 0 32 32\">\n",
       "<path d=\"M28.681 7.159c-0.694-0.947-1.662-2.053-2.724-3.116s-2.169-2.030-3.116-2.724c-1.612-1.182-2.393-1.319-2.841-1.319h-15.5c-1.378 0-2.5 1.121-2.5 2.5v27c0 1.378 1.122 2.5 2.5 2.5h23c1.378 0 2.5-1.122 2.5-2.5v-19.5c0-0.448-0.137-1.23-1.319-2.841zM24.543 5.457c0.959 0.959 1.712 1.825 2.268 2.543h-4.811v-4.811c0.718 0.556 1.584 1.309 2.543 2.268zM28 29.5c0 0.271-0.229 0.5-0.5 0.5h-23c-0.271 0-0.5-0.229-0.5-0.5v-27c0-0.271 0.229-0.5 0.5-0.5 0 0 15.499-0 15.5 0v7c0 0.552 0.448 1 1 1h7v19.5z\"></path>\n",
       "<path d=\"M23 26h-14c-0.552 0-1-0.448-1-1s0.448-1 1-1h14c0.552 0 1 0.448 1 1s-0.448 1-1 1z\"></path>\n",
       "<path d=\"M23 22h-14c-0.552 0-1-0.448-1-1s0.448-1 1-1h14c0.552 0 1 0.448 1 1s-0.448 1-1 1z\"></path>\n",
       "<path d=\"M23 18h-14c-0.552 0-1-0.448-1-1s0.448-1 1-1h14c0.552 0 1 0.448 1 1s-0.448 1-1 1z\"></path>\n",
       "</symbol>\n",
       "</defs>\n",
       "</svg>\n",
       "<style>/* CSS stylesheet for displaying xarray objects in jupyterlab.\n",
       " *\n",
       " */\n",
       "\n",
       ":root {\n",
       "  --xr-font-color0: var(--jp-content-font-color0, rgba(0, 0, 0, 1));\n",
       "  --xr-font-color2: var(--jp-content-font-color2, rgba(0, 0, 0, 0.54));\n",
       "  --xr-font-color3: var(--jp-content-font-color3, rgba(0, 0, 0, 0.38));\n",
       "  --xr-border-color: var(--jp-border-color2, #e0e0e0);\n",
       "  --xr-disabled-color: var(--jp-layout-color3, #bdbdbd);\n",
       "  --xr-background-color: var(--jp-layout-color0, white);\n",
       "  --xr-background-color-row-even: var(--jp-layout-color1, white);\n",
       "  --xr-background-color-row-odd: var(--jp-layout-color2, #eeeeee);\n",
       "}\n",
       "\n",
       "html[theme=dark],\n",
       "body.vscode-dark {\n",
       "  --xr-font-color0: rgba(255, 255, 255, 1);\n",
       "  --xr-font-color2: rgba(255, 255, 255, 0.54);\n",
       "  --xr-font-color3: rgba(255, 255, 255, 0.38);\n",
       "  --xr-border-color: #1F1F1F;\n",
       "  --xr-disabled-color: #515151;\n",
       "  --xr-background-color: #111111;\n",
       "  --xr-background-color-row-even: #111111;\n",
       "  --xr-background-color-row-odd: #313131;\n",
       "}\n",
       "\n",
       ".xr-wrap {\n",
       "  display: block;\n",
       "  min-width: 300px;\n",
       "  max-width: 700px;\n",
       "}\n",
       "\n",
       ".xr-text-repr-fallback {\n",
       "  /* fallback to plain text repr when CSS is not injected (untrusted notebook) */\n",
       "  display: none;\n",
       "}\n",
       "\n",
       ".xr-header {\n",
       "  padding-top: 6px;\n",
       "  padding-bottom: 6px;\n",
       "  margin-bottom: 4px;\n",
       "  border-bottom: solid 1px var(--xr-border-color);\n",
       "}\n",
       "\n",
       ".xr-header > div,\n",
       ".xr-header > ul {\n",
       "  display: inline;\n",
       "  margin-top: 0;\n",
       "  margin-bottom: 0;\n",
       "}\n",
       "\n",
       ".xr-obj-type,\n",
       ".xr-array-name {\n",
       "  margin-left: 2px;\n",
       "  margin-right: 10px;\n",
       "}\n",
       "\n",
       ".xr-obj-type {\n",
       "  color: var(--xr-font-color2);\n",
       "}\n",
       "\n",
       ".xr-sections {\n",
       "  padding-left: 0 !important;\n",
       "  display: grid;\n",
       "  grid-template-columns: 150px auto auto 1fr 20px 20px;\n",
       "}\n",
       "\n",
       ".xr-section-item {\n",
       "  display: contents;\n",
       "}\n",
       "\n",
       ".xr-section-item input {\n",
       "  display: none;\n",
       "}\n",
       "\n",
       ".xr-section-item input + label {\n",
       "  color: var(--xr-disabled-color);\n",
       "}\n",
       "\n",
       ".xr-section-item input:enabled + label {\n",
       "  cursor: pointer;\n",
       "  color: var(--xr-font-color2);\n",
       "}\n",
       "\n",
       ".xr-section-item input:enabled + label:hover {\n",
       "  color: var(--xr-font-color0);\n",
       "}\n",
       "\n",
       ".xr-section-summary {\n",
       "  grid-column: 1;\n",
       "  color: var(--xr-font-color2);\n",
       "  font-weight: 500;\n",
       "}\n",
       "\n",
       ".xr-section-summary > span {\n",
       "  display: inline-block;\n",
       "  padding-left: 0.5em;\n",
       "}\n",
       "\n",
       ".xr-section-summary-in:disabled + label {\n",
       "  color: var(--xr-font-color2);\n",
       "}\n",
       "\n",
       ".xr-section-summary-in + label:before {\n",
       "  display: inline-block;\n",
       "  content: '►';\n",
       "  font-size: 11px;\n",
       "  width: 15px;\n",
       "  text-align: center;\n",
       "}\n",
       "\n",
       ".xr-section-summary-in:disabled + label:before {\n",
       "  color: var(--xr-disabled-color);\n",
       "}\n",
       "\n",
       ".xr-section-summary-in:checked + label:before {\n",
       "  content: '▼';\n",
       "}\n",
       "\n",
       ".xr-section-summary-in:checked + label > span {\n",
       "  display: none;\n",
       "}\n",
       "\n",
       ".xr-section-summary,\n",
       ".xr-section-inline-details {\n",
       "  padding-top: 4px;\n",
       "  padding-bottom: 4px;\n",
       "}\n",
       "\n",
       ".xr-section-inline-details {\n",
       "  grid-column: 2 / -1;\n",
       "}\n",
       "\n",
       ".xr-section-details {\n",
       "  display: none;\n",
       "  grid-column: 1 / -1;\n",
       "  margin-bottom: 5px;\n",
       "}\n",
       "\n",
       ".xr-section-summary-in:checked ~ .xr-section-details {\n",
       "  display: contents;\n",
       "}\n",
       "\n",
       ".xr-array-wrap {\n",
       "  grid-column: 1 / -1;\n",
       "  display: grid;\n",
       "  grid-template-columns: 20px auto;\n",
       "}\n",
       "\n",
       ".xr-array-wrap > label {\n",
       "  grid-column: 1;\n",
       "  vertical-align: top;\n",
       "}\n",
       "\n",
       ".xr-preview {\n",
       "  color: var(--xr-font-color3);\n",
       "}\n",
       "\n",
       ".xr-array-preview,\n",
       ".xr-array-data {\n",
       "  padding: 0 5px !important;\n",
       "  grid-column: 2;\n",
       "}\n",
       "\n",
       ".xr-array-data,\n",
       ".xr-array-in:checked ~ .xr-array-preview {\n",
       "  display: none;\n",
       "}\n",
       "\n",
       ".xr-array-in:checked ~ .xr-array-data,\n",
       ".xr-array-preview {\n",
       "  display: inline-block;\n",
       "}\n",
       "\n",
       ".xr-dim-list {\n",
       "  display: inline-block !important;\n",
       "  list-style: none;\n",
       "  padding: 0 !important;\n",
       "  margin: 0;\n",
       "}\n",
       "\n",
       ".xr-dim-list li {\n",
       "  display: inline-block;\n",
       "  padding: 0;\n",
       "  margin: 0;\n",
       "}\n",
       "\n",
       ".xr-dim-list:before {\n",
       "  content: '(';\n",
       "}\n",
       "\n",
       ".xr-dim-list:after {\n",
       "  content: ')';\n",
       "}\n",
       "\n",
       ".xr-dim-list li:not(:last-child):after {\n",
       "  content: ',';\n",
       "  padding-right: 5px;\n",
       "}\n",
       "\n",
       ".xr-has-index {\n",
       "  font-weight: bold;\n",
       "}\n",
       "\n",
       ".xr-var-list,\n",
       ".xr-var-item {\n",
       "  display: contents;\n",
       "}\n",
       "\n",
       ".xr-var-item > div,\n",
       ".xr-var-item label,\n",
       ".xr-var-item > .xr-var-name span {\n",
       "  background-color: var(--xr-background-color-row-even);\n",
       "  margin-bottom: 0;\n",
       "}\n",
       "\n",
       ".xr-var-item > .xr-var-name:hover span {\n",
       "  padding-right: 5px;\n",
       "}\n",
       "\n",
       ".xr-var-list > li:nth-child(odd) > div,\n",
       ".xr-var-list > li:nth-child(odd) > label,\n",
       ".xr-var-list > li:nth-child(odd) > .xr-var-name span {\n",
       "  background-color: var(--xr-background-color-row-odd);\n",
       "}\n",
       "\n",
       ".xr-var-name {\n",
       "  grid-column: 1;\n",
       "}\n",
       "\n",
       ".xr-var-dims {\n",
       "  grid-column: 2;\n",
       "}\n",
       "\n",
       ".xr-var-dtype {\n",
       "  grid-column: 3;\n",
       "  text-align: right;\n",
       "  color: var(--xr-font-color2);\n",
       "}\n",
       "\n",
       ".xr-var-preview {\n",
       "  grid-column: 4;\n",
       "}\n",
       "\n",
       ".xr-var-name,\n",
       ".xr-var-dims,\n",
       ".xr-var-dtype,\n",
       ".xr-preview,\n",
       ".xr-attrs dt {\n",
       "  white-space: nowrap;\n",
       "  overflow: hidden;\n",
       "  text-overflow: ellipsis;\n",
       "  padding-right: 10px;\n",
       "}\n",
       "\n",
       ".xr-var-name:hover,\n",
       ".xr-var-dims:hover,\n",
       ".xr-var-dtype:hover,\n",
       ".xr-attrs dt:hover {\n",
       "  overflow: visible;\n",
       "  width: auto;\n",
       "  z-index: 1;\n",
       "}\n",
       "\n",
       ".xr-var-attrs,\n",
       ".xr-var-data {\n",
       "  display: none;\n",
       "  background-color: var(--xr-background-color) !important;\n",
       "  padding-bottom: 5px !important;\n",
       "}\n",
       "\n",
       ".xr-var-attrs-in:checked ~ .xr-var-attrs,\n",
       ".xr-var-data-in:checked ~ .xr-var-data {\n",
       "  display: block;\n",
       "}\n",
       "\n",
       ".xr-var-data > table {\n",
       "  float: right;\n",
       "}\n",
       "\n",
       ".xr-var-name span,\n",
       ".xr-var-data,\n",
       ".xr-attrs {\n",
       "  padding-left: 25px !important;\n",
       "}\n",
       "\n",
       ".xr-attrs,\n",
       ".xr-var-attrs,\n",
       ".xr-var-data {\n",
       "  grid-column: 1 / -1;\n",
       "}\n",
       "\n",
       "dl.xr-attrs {\n",
       "  padding: 0;\n",
       "  margin: 0;\n",
       "  display: grid;\n",
       "  grid-template-columns: 125px auto;\n",
       "}\n",
       "\n",
       ".xr-attrs dt,\n",
       ".xr-attrs dd {\n",
       "  padding: 0;\n",
       "  margin: 0;\n",
       "  float: left;\n",
       "  padding-right: 10px;\n",
       "  width: auto;\n",
       "}\n",
       "\n",
       ".xr-attrs dt {\n",
       "  font-weight: normal;\n",
       "  grid-column: 1;\n",
       "}\n",
       "\n",
       ".xr-attrs dt:hover span {\n",
       "  display: inline-block;\n",
       "  background: var(--xr-background-color);\n",
       "  padding-right: 10px;\n",
       "}\n",
       "\n",
       ".xr-attrs dd {\n",
       "  grid-column: 2;\n",
       "  white-space: pre-wrap;\n",
       "  word-break: break-all;\n",
       "}\n",
       "\n",
       ".xr-icon-database,\n",
       ".xr-icon-file-text2 {\n",
       "  display: inline-block;\n",
       "  vertical-align: middle;\n",
       "  width: 1em;\n",
       "  height: 1.5em !important;\n",
       "  stroke-width: 0;\n",
       "  stroke: currentColor;\n",
       "  fill: currentColor;\n",
       "}\n",
       "</style><pre class='xr-text-repr-fallback'>&lt;xarray.Dataset&gt;\n",
       "Dimensions:  (lat: 53, lon: 172, time: 6962)\n",
       "Coordinates:\n",
       "  * lat      (lat) float64 -23.0 -22.75 -22.5 -22.25 ... -10.5 -10.25 -10.0\n",
       "  * time     (time) datetime64[ns] 1974-10-01 1974-10-02 ... 2020-03-31\n",
       "  * lon      (lon) float64 112.0 112.2 112.5 112.8 ... 154.0 154.2 154.5 154.8\n",
       "Data variables:\n",
       "    precip   (time, lat, lon) float64 nan nan nan nan nan ... nan nan nan nan\n",
       "Attributes:\n",
       "    Information:  Only contains the wet season [10,11,12,1,2,3],rainfall &gt;= 1...\n",
       "    History:      AGCD Regrid on the 11th of June 2021 from /g/data/rr5 by ab...</pre><div class='xr-wrap' hidden><div class='xr-header'><div class='xr-obj-type'>xarray.Dataset</div></div><ul class='xr-sections'><li class='xr-section-item'><input id='section-55b8ac19-d785-4c29-865a-8c3873211b54' class='xr-section-summary-in' type='checkbox' disabled ><label for='section-55b8ac19-d785-4c29-865a-8c3873211b54' class='xr-section-summary'  title='Expand/collapse section'>Dimensions:</label><div class='xr-section-inline-details'><ul class='xr-dim-list'><li><span class='xr-has-index'>lat</span>: 53</li><li><span class='xr-has-index'>lon</span>: 172</li><li><span class='xr-has-index'>time</span>: 6962</li></ul></div><div class='xr-section-details'></div></li><li class='xr-section-item'><input id='section-ddf4dadf-495d-47f2-82d0-09b9999162c8' class='xr-section-summary-in' type='checkbox'  checked><label for='section-ddf4dadf-495d-47f2-82d0-09b9999162c8' class='xr-section-summary' >Coordinates: <span>(3)</span></label><div class='xr-section-inline-details'></div><div class='xr-section-details'><ul class='xr-var-list'><li class='xr-var-item'><div class='xr-var-name'><span class='xr-has-index'>lat</span></div><div class='xr-var-dims'>(lat)</div><div class='xr-var-dtype'>float64</div><div class='xr-var-preview xr-preview'>-23.0 -22.75 -22.5 ... -10.25 -10.0</div><input id='attrs-6ea5eb92-e785-4d5c-986d-df1f272a752c' class='xr-var-attrs-in' type='checkbox' disabled><label for='attrs-6ea5eb92-e785-4d5c-986d-df1f272a752c' title='Show/Hide attributes'><svg class='icon xr-icon-file-text2'><use xlink:href='#icon-file-text2'></use></svg></label><input id='data-b273b147-356b-4f97-a458-b4ca597d5f49' class='xr-var-data-in' type='checkbox'><label for='data-b273b147-356b-4f97-a458-b4ca597d5f49' title='Show/Hide data repr'><svg class='icon xr-icon-database'><use xlink:href='#icon-database'></use></svg></label><div class='xr-var-attrs'><dl class='xr-attrs'></dl></div><div class='xr-var-data'><pre>array([-23.  , -22.75, -22.5 , -22.25, -22.  , -21.75, -21.5 , -21.25, -21.  ,\n",
       "       -20.75, -20.5 , -20.25, -20.  , -19.75, -19.5 , -19.25, -19.  , -18.75,\n",
       "       -18.5 , -18.25, -18.  , -17.75, -17.5 , -17.25, -17.  , -16.75, -16.5 ,\n",
       "       -16.25, -16.  , -15.75, -15.5 , -15.25, -15.  , -14.75, -14.5 , -14.25,\n",
       "       -14.  , -13.75, -13.5 , -13.25, -13.  , -12.75, -12.5 , -12.25, -12.  ,\n",
       "       -11.75, -11.5 , -11.25, -11.  , -10.75, -10.5 , -10.25, -10.  ])</pre></div></li><li class='xr-var-item'><div class='xr-var-name'><span class='xr-has-index'>time</span></div><div class='xr-var-dims'>(time)</div><div class='xr-var-dtype'>datetime64[ns]</div><div class='xr-var-preview xr-preview'>1974-10-01 ... 2020-03-31</div><input id='attrs-affc5391-47d6-41f9-a4bd-b9f88c5ab395' class='xr-var-attrs-in' type='checkbox' disabled><label for='attrs-affc5391-47d6-41f9-a4bd-b9f88c5ab395' title='Show/Hide attributes'><svg class='icon xr-icon-file-text2'><use xlink:href='#icon-file-text2'></use></svg></label><input id='data-7ec835d6-b560-4510-9891-1aa807afe624' class='xr-var-data-in' type='checkbox'><label for='data-7ec835d6-b560-4510-9891-1aa807afe624' title='Show/Hide data repr'><svg class='icon xr-icon-database'><use xlink:href='#icon-database'></use></svg></label><div class='xr-var-attrs'><dl class='xr-attrs'></dl></div><div class='xr-var-data'><pre>array([&#x27;1974-10-01T00:00:00.000000000&#x27;, &#x27;1974-10-02T00:00:00.000000000&#x27;,\n",
       "       &#x27;1974-10-03T00:00:00.000000000&#x27;, ..., &#x27;2020-03-29T00:00:00.000000000&#x27;,\n",
       "       &#x27;2020-03-30T00:00:00.000000000&#x27;, &#x27;2020-03-31T00:00:00.000000000&#x27;],\n",
       "      dtype=&#x27;datetime64[ns]&#x27;)</pre></div></li><li class='xr-var-item'><div class='xr-var-name'><span class='xr-has-index'>lon</span></div><div class='xr-var-dims'>(lon)</div><div class='xr-var-dtype'>float64</div><div class='xr-var-preview xr-preview'>112.0 112.2 112.5 ... 154.5 154.8</div><input id='attrs-95f0bbbc-70c0-4488-8d56-b6bc02d66aa6' class='xr-var-attrs-in' type='checkbox' disabled><label for='attrs-95f0bbbc-70c0-4488-8d56-b6bc02d66aa6' title='Show/Hide attributes'><svg class='icon xr-icon-file-text2'><use xlink:href='#icon-file-text2'></use></svg></label><input id='data-add8b4f1-644b-436c-a908-cf97f3b325ba' class='xr-var-data-in' type='checkbox'><label for='data-add8b4f1-644b-436c-a908-cf97f3b325ba' title='Show/Hide data repr'><svg class='icon xr-icon-database'><use xlink:href='#icon-database'></use></svg></label><div class='xr-var-attrs'><dl class='xr-attrs'></dl></div><div class='xr-var-data'><pre>array([112.  , 112.25, 112.5 , 112.75, 113.  , 113.25, 113.5 , 113.75, 114.  ,\n",
       "       114.25, 114.5 , 114.75, 115.  , 115.25, 115.5 , 115.75, 116.  , 116.25,\n",
       "       116.5 , 116.75, 117.  , 117.25, 117.5 , 117.75, 118.  , 118.25, 118.5 ,\n",
       "       118.75, 119.  , 119.25, 119.5 , 119.75, 120.  , 120.25, 120.5 , 120.75,\n",
       "       121.  , 121.25, 121.5 , 121.75, 122.  , 122.25, 122.5 , 122.75, 123.  ,\n",
       "       123.25, 123.5 , 123.75, 124.  , 124.25, 124.5 , 124.75, 125.  , 125.25,\n",
       "       125.5 , 125.75, 126.  , 126.25, 126.5 , 126.75, 127.  , 127.25, 127.5 ,\n",
       "       127.75, 128.  , 128.25, 128.5 , 128.75, 129.  , 129.25, 129.5 , 129.75,\n",
       "       130.  , 130.25, 130.5 , 130.75, 131.  , 131.25, 131.5 , 131.75, 132.  ,\n",
       "       132.25, 132.5 , 132.75, 133.  , 133.25, 133.5 , 133.75, 134.  , 134.25,\n",
       "       134.5 , 134.75, 135.  , 135.25, 135.5 , 135.75, 136.  , 136.25, 136.5 ,\n",
       "       136.75, 137.  , 137.25, 137.5 , 137.75, 138.  , 138.25, 138.5 , 138.75,\n",
       "       139.  , 139.25, 139.5 , 139.75, 140.  , 140.25, 140.5 , 140.75, 141.  ,\n",
       "       141.25, 141.5 , 141.75, 142.  , 142.25, 142.5 , 142.75, 143.  , 143.25,\n",
       "       143.5 , 143.75, 144.  , 144.25, 144.5 , 144.75, 145.  , 145.25, 145.5 ,\n",
       "       145.75, 146.  , 146.25, 146.5 , 146.75, 147.  , 147.25, 147.5 , 147.75,\n",
       "       148.  , 148.25, 148.5 , 148.75, 149.  , 149.25, 149.5 , 149.75, 150.  ,\n",
       "       150.25, 150.5 , 150.75, 151.  , 151.25, 151.5 , 151.75, 152.  , 152.25,\n",
       "       152.5 , 152.75, 153.  , 153.25, 153.5 , 153.75, 154.  , 154.25, 154.5 ,\n",
       "       154.75])</pre></div></li></ul></div></li><li class='xr-section-item'><input id='section-825e167a-2e28-4e2f-82d3-370507d48175' class='xr-section-summary-in' type='checkbox'  checked><label for='section-825e167a-2e28-4e2f-82d3-370507d48175' class='xr-section-summary' >Data variables: <span>(1)</span></label><div class='xr-section-inline-details'></div><div class='xr-section-details'><ul class='xr-var-list'><li class='xr-var-item'><div class='xr-var-name'><span>precip</span></div><div class='xr-var-dims'>(time, lat, lon)</div><div class='xr-var-dtype'>float64</div><div class='xr-var-preview xr-preview'>nan nan nan nan ... nan nan nan nan</div><input id='attrs-1b62f210-c468-47e1-87e3-fa9708b06376' class='xr-var-attrs-in' type='checkbox' disabled><label for='attrs-1b62f210-c468-47e1-87e3-fa9708b06376' title='Show/Hide attributes'><svg class='icon xr-icon-file-text2'><use xlink:href='#icon-file-text2'></use></svg></label><input id='data-606c61e5-5abd-4d75-ab34-1bad98561250' class='xr-var-data-in' type='checkbox'><label for='data-606c61e5-5abd-4d75-ab34-1bad98561250' title='Show/Hide data repr'><svg class='icon xr-icon-database'><use xlink:href='#icon-database'></use></svg></label><div class='xr-var-attrs'><dl class='xr-attrs'></dl></div><div class='xr-var-data'><pre>array([[[nan, nan, nan, ..., nan, nan, nan],\n",
       "        [nan, nan, nan, ..., nan, nan, nan],\n",
       "        [nan, nan, nan, ..., nan, nan, nan],\n",
       "        ...,\n",
       "        [nan, nan, nan, ..., nan, nan, nan],\n",
       "        [nan, nan, nan, ..., nan, nan, nan],\n",
       "        [nan, nan, nan, ..., nan, nan, nan]],\n",
       "\n",
       "       [[nan, nan, nan, ..., nan, nan, nan],\n",
       "        [nan, nan, nan, ..., nan, nan, nan],\n",
       "        [nan, nan, nan, ..., nan, nan, nan],\n",
       "        ...,\n",
       "        [nan, nan, nan, ..., nan, nan, nan],\n",
       "        [nan, nan, nan, ..., nan, nan, nan],\n",
       "        [nan, nan, nan, ..., nan, nan, nan]],\n",
       "\n",
       "       [[nan, nan, nan, ..., nan, nan, nan],\n",
       "        [nan, nan, nan, ..., nan, nan, nan],\n",
       "        [nan, nan, nan, ..., nan, nan, nan],\n",
       "        ...,\n",
       "...\n",
       "        ...,\n",
       "        [nan, nan, nan, ..., nan, nan, nan],\n",
       "        [nan, nan, nan, ..., nan, nan, nan],\n",
       "        [nan, nan, nan, ..., nan, nan, nan]],\n",
       "\n",
       "       [[nan, nan, nan, ..., nan, nan, nan],\n",
       "        [nan, nan, nan, ..., nan, nan, nan],\n",
       "        [nan, nan, nan, ..., nan, nan, nan],\n",
       "        ...,\n",
       "        [nan, nan, nan, ..., nan, nan, nan],\n",
       "        [nan, nan, nan, ..., nan, nan, nan],\n",
       "        [nan, nan, nan, ..., nan, nan, nan]],\n",
       "\n",
       "       [[nan, nan, nan, ..., nan, nan, nan],\n",
       "        [nan, nan, nan, ..., nan, nan, nan],\n",
       "        [nan, nan, nan, ..., nan, nan, nan],\n",
       "        ...,\n",
       "        [nan, nan, nan, ..., nan, nan, nan],\n",
       "        [nan, nan, nan, ..., nan, nan, nan],\n",
       "        [nan, nan, nan, ..., nan, nan, nan]]])</pre></div></li></ul></div></li><li class='xr-section-item'><input id='section-570b74e6-2498-49bc-badc-cf74a29a123b' class='xr-section-summary-in' type='checkbox'  checked><label for='section-570b74e6-2498-49bc-badc-cf74a29a123b' class='xr-section-summary' >Attributes: <span>(2)</span></label><div class='xr-section-inline-details'></div><div class='xr-section-details'><dl class='xr-attrs'><dt><span>Information :</span></dt><dd>Only contains the wet season [10,11,12,1,2,3],rainfall &gt;= 1mm and the North of Australia</dd><dt><span>History :</span></dt><dd>AGCD Regrid on the 11th of June 2021 from /g/data/rr5 by ab2313</dd></dl></div></li></ul></div></div>"
      ],
      "text/plain": [
       "<xarray.Dataset>\n",
       "Dimensions:  (lat: 53, lon: 172, time: 6962)\n",
       "Coordinates:\n",
       "  * lat      (lat) float64 -23.0 -22.75 -22.5 -22.25 ... -10.5 -10.25 -10.0\n",
       "  * time     (time) datetime64[ns] 1974-10-01 1974-10-02 ... 2020-03-31\n",
       "  * lon      (lon) float64 112.0 112.2 112.5 112.8 ... 154.0 154.2 154.5 154.8\n",
       "Data variables:\n",
       "    precip   (time, lat, lon) float64 nan nan nan nan nan ... nan nan nan nan\n",
       "Attributes:\n",
       "    Information:  Only contains the wet season [10,11,12,1,2,3],rainfall >= 1...\n",
       "    History:      AGCD Regrid on the 11th of June 2021 from /g/data/rr5 by ab..."
      ]
     },
     "execution_count": 6,
     "metadata": {},
     "output_type": "execute_result"
    }
   ],
   "source": [
    "awap"
   ]
  },
  {
   "cell_type": "code",
   "execution_count": 7,
   "metadata": {},
   "outputs": [
    {
     "data": {
      "text/plain": [
       "<matplotlib.collections.QuadMesh at 0x7ff7b80b72b0>"
      ]
     },
     "execution_count": 7,
     "metadata": {},
     "output_type": "execute_result"
    },
    {
     "data": {
      "image/png": "[encoded data removed]",
      "text/plain": [
       "<Figure size 432x288 with 2 Axes>"
      ]
     },
     "metadata": {
      "needs_background": "light"
     },
     "output_type": "display_data"
    }
   ],
   "source": [
    "awap.sum(dim = 'time').precip.plot()"
   ]
  },
  {
   "cell_type": "code",
   "execution_count": 8,
   "metadata": {},
   "outputs": [],
   "source": [
    "awap = apply_masks(awap)"
   ]
  },
  {
   "cell_type": "code",
   "execution_count": 9,
   "metadata": {},
   "outputs": [
    {
     "data": {
      "text/plain": [
       "<matplotlib.collections.QuadMesh at 0x7ff7b7edf220>"
      ]
     },
     "execution_count": 9,
     "metadata": {},
     "output_type": "execute_result"
    },
    {
     "data": {
      "image/png": "[encoded data removed]",
      "text/plain": [
       "<Figure size 432x288 with 2 Axes>"
      ]
     },
     "metadata": {
      "needs_background": "light"
     },
     "output_type": "display_data"
    }
   ],
   "source": [
    "awap.sum(dim = 'time').precip.plot()"
   ]
  },
  {
   "cell_type": "code",
   "execution_count": 10,
   "metadata": {},
   "outputs": [
    {
     "data": {
      "text/plain": [
       "47"
      ]
     },
     "execution_count": 10,
     "metadata": {},
     "output_type": "execute_result"
    }
   ],
   "source": [
    "len(np.unique(awap.time.dt.year.values))"
   ]
  },
  {
   "cell_type": "code",
   "execution_count": 11,
   "metadata": {},
   "outputs": [
    {
     "data": {
      "text/plain": [
       "47"
      ]
     },
     "execution_count": 11,
     "metadata": {},
     "output_type": "execute_result"
    }
   ],
   "source": [
    "len(np.unique(rmm.time.dt.year.values))"
   ]
  },
  {
   "cell_type": "code",
   "execution_count": 12,
   "metadata": {},
   "outputs": [
    {
     "data": {
      "text/plain": [
       "array([1974, 1975, 1976, 1977, 1978, 1979, 1980, 1981, 1982, 1983, 1984,\n",
       "       1985, 1986, 1987, 1988, 1989, 1990, 1991, 1992, 1993, 1994, 1995,\n",
       "       1996, 1997, 1998, 1999, 2000, 2001, 2002, 2003, 2004, 2005, 2006,\n",
       "       2007, 2008, 2009, 2010, 2011, 2012, 2013, 2014, 2015, 2016, 2017,\n",
       "       2018, 2019, 2020])"
      ]
     },
     "execution_count": 12,
     "metadata": {},
     "output_type": "execute_result"
    }
   ],
   "source": [
    "np.unique(rmm.time.dt.year.values)"
   ]
  },
  {
   "cell_type": "code",
   "execution_count": 13,
   "metadata": {},
   "outputs": [
    {
     "data": {
      "text/plain": [
       "array([1974, 1975, 1976, 1977, 1978, 1979, 1980, 1981, 1982, 1983, 1984,\n",
       "       1985, 1986, 1987, 1988, 1989, 1990, 1991, 1992, 1993, 1994, 1995,\n",
       "       1996, 1997, 1998, 1999, 2000, 2001, 2002, 2003, 2004, 2005, 2006,\n",
       "       2007, 2008, 2009, 2010, 2011, 2012, 2013, 2014, 2015, 2016, 2017,\n",
       "       2018, 2019, 2020])"
      ]
     },
     "execution_count": 13,
     "metadata": {},
     "output_type": "execute_result"
    }
   ],
   "source": [
    "np.unique(awap.time.dt.year.values)"
   ]
  },
  {
   "cell_type": "code",
   "execution_count": 14,
   "metadata": {},
   "outputs": [
    {
     "data": {
      "text/html": [
       "<div><svg style=\"position: absolute; width: 0; height: 0; overflow: hidden\">\n",
       "<defs>\n",
       "<symbol id=\"icon-database\" viewBox=\"0 0 32 32\">\n",
       "<path d=\"M16 0c-8.837 0-16 2.239-16 5v4c0 2.761 7.163 5 16 5s16-2.239 16-5v-4c0-2.761-7.163-5-16-5z\"></path>\n",
       "<path d=\"M16 17c-8.837 0-16-2.239-16-5v6c0 2.761 7.163 5 16 5s16-2.239 16-5v-6c0 2.761-7.163 5-16 5z\"></path>\n",
       "<path d=\"M16 26c-8.837 0-16-2.239-16-5v6c0 2.761 7.163 5 16 5s16-2.239 16-5v-6c0 2.761-7.163 5-16 5z\"></path>\n",
       "</symbol>\n",
       "<symbol id=\"icon-file-text2\" viewBox=\"0 0 32 32\">\n",
       "<path d=\"M28.681 7.159c-0.694-0.947-1.662-2.053-2.724-3.116s-2.169-2.030-3.116-2.724c-1.612-1.182-2.393-1.319-2.841-1.319h-15.5c-1.378 0-2.5 1.121-2.5 2.5v27c0 1.378 1.122 2.5 2.5 2.5h23c1.378 0 2.5-1.122 2.5-2.5v-19.5c0-0.448-0.137-1.23-1.319-2.841zM24.543 5.457c0.959 0.959 1.712 1.825 2.268 2.543h-4.811v-4.811c0.718 0.556 1.584 1.309 2.543 2.268zM28 29.5c0 0.271-0.229 0.5-0.5 0.5h-23c-0.271 0-0.5-0.229-0.5-0.5v-27c0-0.271 0.229-0.5 0.5-0.5 0 0 15.499-0 15.5 0v7c0 0.552 0.448 1 1 1h7v19.5z\"></path>\n",
       "<path d=\"M23 26h-14c-0.552 0-1-0.448-1-1s0.448-1 1-1h14c0.552 0 1 0.448 1 1s-0.448 1-1 1z\"></path>\n",
       "<path d=\"M23 22h-14c-0.552 0-1-0.448-1-1s0.448-1 1-1h14c0.552 0 1 0.448 1 1s-0.448 1-1 1z\"></path>\n",
       "<path d=\"M23 18h-14c-0.552 0-1-0.448-1-1s0.448-1 1-1h14c0.552 0 1 0.448 1 1s-0.448 1-1 1z\"></path>\n",
       "</symbol>\n",
       "</defs>\n",
       "</svg>\n",
       "<style>/* CSS stylesheet for displaying xarray objects in jupyterlab.\n",
       " *\n",
       " */\n",
       "\n",
       ":root {\n",
       "  --xr-font-color0: var(--jp-content-font-color0, rgba(0, 0, 0, 1));\n",
       "  --xr-font-color2: var(--jp-content-font-color2, rgba(0, 0, 0, 0.54));\n",
       "  --xr-font-color3: var(--jp-content-font-color3, rgba(0, 0, 0, 0.38));\n",
       "  --xr-border-color: var(--jp-border-color2, #e0e0e0);\n",
       "  --xr-disabled-color: var(--jp-layout-color3, #bdbdbd);\n",
       "  --xr-background-color: var(--jp-layout-color0, white);\n",
       "  --xr-background-color-row-even: var(--jp-layout-color1, white);\n",
       "  --xr-background-color-row-odd: var(--jp-layout-color2, #eeeeee);\n",
       "}\n",
       "\n",
       "html[theme=dark],\n",
       "body.vscode-dark {\n",
       "  --xr-font-color0: rgba(255, 255, 255, 1);\n",
       "  --xr-font-color2: rgba(255, 255, 255, 0.54);\n",
       "  --xr-font-color3: rgba(255, 255, 255, 0.38);\n",
       "  --xr-border-color: #1F1F1F;\n",
       "  --xr-disabled-color: #515151;\n",
       "  --xr-background-color: #111111;\n",
       "  --xr-background-color-row-even: #111111;\n",
       "  --xr-background-color-row-odd: #313131;\n",
       "}\n",
       "\n",
       ".xr-wrap {\n",
       "  display: block;\n",
       "  min-width: 300px;\n",
       "  max-width: 700px;\n",
       "}\n",
       "\n",
       ".xr-text-repr-fallback {\n",
       "  /* fallback to plain text repr when CSS is not injected (untrusted notebook) */\n",
       "  display: none;\n",
       "}\n",
       "\n",
       ".xr-header {\n",
       "  padding-top: 6px;\n",
       "  padding-bottom: 6px;\n",
       "  margin-bottom: 4px;\n",
       "  border-bottom: solid 1px var(--xr-border-color);\n",
       "}\n",
       "\n",
       ".xr-header > div,\n",
       ".xr-header > ul {\n",
       "  display: inline;\n",
       "  margin-top: 0;\n",
       "  margin-bottom: 0;\n",
       "}\n",
       "\n",
       ".xr-obj-type,\n",
       ".xr-array-name {\n",
       "  margin-left: 2px;\n",
       "  margin-right: 10px;\n",
       "}\n",
       "\n",
       ".xr-obj-type {\n",
       "  color: var(--xr-font-color2);\n",
       "}\n",
       "\n",
       ".xr-sections {\n",
       "  padding-left: 0 !important;\n",
       "  display: grid;\n",
       "  grid-template-columns: 150px auto auto 1fr 20px 20px;\n",
       "}\n",
       "\n",
       ".xr-section-item {\n",
       "  display: contents;\n",
       "}\n",
       "\n",
       ".xr-section-item input {\n",
       "  display: none;\n",
       "}\n",
       "\n",
       ".xr-section-item input + label {\n",
       "  color: var(--xr-disabled-color);\n",
       "}\n",
       "\n",
       ".xr-section-item input:enabled + label {\n",
       "  cursor: pointer;\n",
       "  color: var(--xr-font-color2);\n",
       "}\n",
       "\n",
       ".xr-section-item input:enabled + label:hover {\n",
       "  color: var(--xr-font-color0);\n",
       "}\n",
       "\n",
       ".xr-section-summary {\n",
       "  grid-column: 1;\n",
       "  color: var(--xr-font-color2);\n",
       "  font-weight: 500;\n",
       "}\n",
       "\n",
       ".xr-section-summary > span {\n",
       "  display: inline-block;\n",
       "  padding-left: 0.5em;\n",
       "}\n",
       "\n",
       ".xr-section-summary-in:disabled + label {\n",
       "  color: var(--xr-font-color2);\n",
       "}\n",
       "\n",
       ".xr-section-summary-in + label:before {\n",
       "  display: inline-block;\n",
       "  content: '►';\n",
       "  font-size: 11px;\n",
       "  width: 15px;\n",
       "  text-align: center;\n",
       "}\n",
       "\n",
       ".xr-section-summary-in:disabled + label:before {\n",
       "  color: var(--xr-disabled-color);\n",
       "}\n",
       "\n",
       ".xr-section-summary-in:checked + label:before {\n",
       "  content: '▼';\n",
       "}\n",
       "\n",
       ".xr-section-summary-in:checked + label > span {\n",
       "  display: none;\n",
       "}\n",
       "\n",
       ".xr-section-summary,\n",
       ".xr-section-inline-details {\n",
       "  padding-top: 4px;\n",
       "  padding-bottom: 4px;\n",
       "}\n",
       "\n",
       ".xr-section-inline-details {\n",
       "  grid-column: 2 / -1;\n",
       "}\n",
       "\n",
       ".xr-section-details {\n",
       "  display: none;\n",
       "  grid-column: 1 / -1;\n",
       "  margin-bottom: 5px;\n",
       "}\n",
       "\n",
       ".xr-section-summary-in:checked ~ .xr-section-details {\n",
       "  display: contents;\n",
       "}\n",
       "\n",
       ".xr-array-wrap {\n",
       "  grid-column: 1 / -1;\n",
       "  display: grid;\n",
       "  grid-template-columns: 20px auto;\n",
       "}\n",
       "\n",
       ".xr-array-wrap > label {\n",
       "  grid-column: 1;\n",
       "  vertical-align: top;\n",
       "}\n",
       "\n",
       ".xr-preview {\n",
       "  color: var(--xr-font-color3);\n",
       "}\n",
       "\n",
       ".xr-array-preview,\n",
       ".xr-array-data {\n",
       "  padding: 0 5px !important;\n",
       "  grid-column: 2;\n",
       "}\n",
       "\n",
       ".xr-array-data,\n",
       ".xr-array-in:checked ~ .xr-array-preview {\n",
       "  display: none;\n",
       "}\n",
       "\n",
       ".xr-array-in:checked ~ .xr-array-data,\n",
       ".xr-array-preview {\n",
       "  display: inline-block;\n",
       "}\n",
       "\n",
       ".xr-dim-list {\n",
       "  display: inline-block !important;\n",
       "  list-style: none;\n",
       "  padding: 0 !important;\n",
       "  margin: 0;\n",
       "}\n",
       "\n",
       ".xr-dim-list li {\n",
       "  display: inline-block;\n",
       "  padding: 0;\n",
       "  margin: 0;\n",
       "}\n",
       "\n",
       ".xr-dim-list:before {\n",
       "  content: '(';\n",
       "}\n",
       "\n",
       ".xr-dim-list:after {\n",
       "  content: ')';\n",
       "}\n",
       "\n",
       ".xr-dim-list li:not(:last-child):after {\n",
       "  content: ',';\n",
       "  padding-right: 5px;\n",
       "}\n",
       "\n",
       ".xr-has-index {\n",
       "  font-weight: bold;\n",
       "}\n",
       "\n",
       ".xr-var-list,\n",
       ".xr-var-item {\n",
       "  display: contents;\n",
       "}\n",
       "\n",
       ".xr-var-item > div,\n",
       ".xr-var-item label,\n",
       ".xr-var-item > .xr-var-name span {\n",
       "  background-color: var(--xr-background-color-row-even);\n",
       "  margin-bottom: 0;\n",
       "}\n",
       "\n",
       ".xr-var-item > .xr-var-name:hover span {\n",
       "  padding-right: 5px;\n",
       "}\n",
       "\n",
       ".xr-var-list > li:nth-child(odd) > div,\n",
       ".xr-var-list > li:nth-child(odd) > label,\n",
       ".xr-var-list > li:nth-child(odd) > .xr-var-name span {\n",
       "  background-color: var(--xr-background-color-row-odd);\n",
       "}\n",
       "\n",
       ".xr-var-name {\n",
       "  grid-column: 1;\n",
       "}\n",
       "\n",
       ".xr-var-dims {\n",
       "  grid-column: 2;\n",
       "}\n",
       "\n",
       ".xr-var-dtype {\n",
       "  grid-column: 3;\n",
       "  text-align: right;\n",
       "  color: var(--xr-font-color2);\n",
       "}\n",
       "\n",
       ".xr-var-preview {\n",
       "  grid-column: 4;\n",
       "}\n",
       "\n",
       ".xr-var-name,\n",
       ".xr-var-dims,\n",
       ".xr-var-dtype,\n",
       ".xr-preview,\n",
       ".xr-attrs dt {\n",
       "  white-space: nowrap;\n",
       "  overflow: hidden;\n",
       "  text-overflow: ellipsis;\n",
       "  padding-right: 10px;\n",
       "}\n",
       "\n",
       ".xr-var-name:hover,\n",
       ".xr-var-dims:hover,\n",
       ".xr-var-dtype:hover,\n",
       ".xr-attrs dt:hover {\n",
       "  overflow: visible;\n",
       "  width: auto;\n",
       "  z-index: 1;\n",
       "}\n",
       "\n",
       ".xr-var-attrs,\n",
       ".xr-var-data {\n",
       "  display: none;\n",
       "  background-color: var(--xr-background-color) !important;\n",
       "  padding-bottom: 5px !important;\n",
       "}\n",
       "\n",
       ".xr-var-attrs-in:checked ~ .xr-var-attrs,\n",
       ".xr-var-data-in:checked ~ .xr-var-data {\n",
       "  display: block;\n",
       "}\n",
       "\n",
       ".xr-var-data > table {\n",
       "  float: right;\n",
       "}\n",
       "\n",
       ".xr-var-name span,\n",
       ".xr-var-data,\n",
       ".xr-attrs {\n",
       "  padding-left: 25px !important;\n",
       "}\n",
       "\n",
       ".xr-attrs,\n",
       ".xr-var-attrs,\n",
       ".xr-var-data {\n",
       "  grid-column: 1 / -1;\n",
       "}\n",
       "\n",
       "dl.xr-attrs {\n",
       "  padding: 0;\n",
       "  margin: 0;\n",
       "  display: grid;\n",
       "  grid-template-columns: 125px auto;\n",
       "}\n",
       "\n",
       ".xr-attrs dt,\n",
       ".xr-attrs dd {\n",
       "  padding: 0;\n",
       "  margin: 0;\n",
       "  float: left;\n",
       "  padding-right: 10px;\n",
       "  width: auto;\n",
       "}\n",
       "\n",
       ".xr-attrs dt {\n",
       "  font-weight: normal;\n",
       "  grid-column: 1;\n",
       "}\n",
       "\n",
       ".xr-attrs dt:hover span {\n",
       "  display: inline-block;\n",
       "  background: var(--xr-background-color);\n",
       "  padding-right: 10px;\n",
       "}\n",
       "\n",
       ".xr-attrs dd {\n",
       "  grid-column: 2;\n",
       "  white-space: pre-wrap;\n",
       "  word-break: break-all;\n",
       "}\n",
       "\n",
       ".xr-icon-database,\n",
       ".xr-icon-file-text2 {\n",
       "  display: inline-block;\n",
       "  vertical-align: middle;\n",
       "  width: 1em;\n",
       "  height: 1.5em !important;\n",
       "  stroke-width: 0;\n",
       "  stroke: currentColor;\n",
       "  fill: currentColor;\n",
       "}\n",
       "</style><pre class='xr-text-repr-fallback'>&lt;xarray.Dataset&gt;\n",
       "Dimensions:  (lat: 52, lon: 149, time: 6962)\n",
       "Coordinates:\n",
       "  * lat      (lat) float64 -23.0 -22.75 -22.5 -22.25 ... -10.5 -10.25 -10.0\n",
       "  * lon      (lon) float64 113.8 114.0 114.2 114.5 ... 150.0 150.2 150.5 150.8\n",
       "  * time     (time) datetime64[ns] 1974-10-01 1974-10-02 ... 2020-03-31\n",
       "Data variables:\n",
       "    precip   (time, lat, lon) float64 nan nan nan nan nan ... nan nan nan nan\n",
       "Attributes:\n",
       "    Information:  Only contains the wet season [10,11,12,1,2,3],rainfall &gt;= 1...\n",
       "    History:      AGCD Regrid on the 11th of June 2021 from /g/data/rr5 by ab...</pre><div class='xr-wrap' hidden><div class='xr-header'><div class='xr-obj-type'>xarray.Dataset</div></div><ul class='xr-sections'><li class='xr-section-item'><input id='section-834e2a7e-45e1-4cdc-9c99-f8ca0f773e77' class='xr-section-summary-in' type='checkbox' disabled ><label for='section-834e2a7e-45e1-4cdc-9c99-f8ca0f773e77' class='xr-section-summary'  title='Expand/collapse section'>Dimensions:</label><div class='xr-section-inline-details'><ul class='xr-dim-list'><li><span class='xr-has-index'>lat</span>: 52</li><li><span class='xr-has-index'>lon</span>: 149</li><li><span class='xr-has-index'>time</span>: 6962</li></ul></div><div class='xr-section-details'></div></li><li class='xr-section-item'><input id='section-2dab51a0-8ee7-4e73-a1b1-8f33b4601c39' class='xr-section-summary-in' type='checkbox'  checked><label for='section-2dab51a0-8ee7-4e73-a1b1-8f33b4601c39' class='xr-section-summary' >Coordinates: <span>(3)</span></label><div class='xr-section-inline-details'></div><div class='xr-section-details'><ul class='xr-var-list'><li class='xr-var-item'><div class='xr-var-name'><span class='xr-has-index'>lat</span></div><div class='xr-var-dims'>(lat)</div><div class='xr-var-dtype'>float64</div><div class='xr-var-preview xr-preview'>-23.0 -22.75 -22.5 ... -10.25 -10.0</div><input id='attrs-d4a26656-e64e-4b46-9e94-cdf57163f451' class='xr-var-attrs-in' type='checkbox' disabled><label for='attrs-d4a26656-e64e-4b46-9e94-cdf57163f451' title='Show/Hide attributes'><svg class='icon xr-icon-file-text2'><use xlink:href='#icon-file-text2'></use></svg></label><input id='data-3438b89b-de81-411a-938b-6b8b5f9bc75a' class='xr-var-data-in' type='checkbox'><label for='data-3438b89b-de81-411a-938b-6b8b5f9bc75a' title='Show/Hide data repr'><svg class='icon xr-icon-database'><use xlink:href='#icon-database'></use></svg></label><div class='xr-var-attrs'><dl class='xr-attrs'></dl></div><div class='xr-var-data'><pre>array([-23.  , -22.75, -22.5 , -22.25, -22.  , -21.75, -21.5 , -21.25, -21.  ,\n",
       "       -20.75, -20.5 , -20.25, -20.  , -19.75, -19.5 , -19.25, -19.  , -18.75,\n",
       "       -18.5 , -18.25, -18.  , -17.75, -17.5 , -17.25, -17.  , -16.75, -16.5 ,\n",
       "       -16.25, -16.  , -15.75, -15.5 , -15.25, -15.  , -14.75, -14.5 , -14.25,\n",
       "       -14.  , -13.75, -13.5 , -13.25, -13.  , -12.75, -12.5 , -12.25, -12.  ,\n",
       "       -11.75, -11.5 , -11.25, -11.  , -10.5 , -10.25, -10.  ])</pre></div></li><li class='xr-var-item'><div class='xr-var-name'><span class='xr-has-index'>lon</span></div><div class='xr-var-dims'>(lon)</div><div class='xr-var-dtype'>float64</div><div class='xr-var-preview xr-preview'>113.8 114.0 114.2 ... 150.5 150.8</div><input id='attrs-8b89655c-4ca1-4a50-8897-b9ea866ca04d' class='xr-var-attrs-in' type='checkbox' disabled><label for='attrs-8b89655c-4ca1-4a50-8897-b9ea866ca04d' title='Show/Hide attributes'><svg class='icon xr-icon-file-text2'><use xlink:href='#icon-file-text2'></use></svg></label><input id='data-24e08960-1b8c-456c-a28e-795c7bff0850' class='xr-var-data-in' type='checkbox'><label for='data-24e08960-1b8c-456c-a28e-795c7bff0850' title='Show/Hide data repr'><svg class='icon xr-icon-database'><use xlink:href='#icon-database'></use></svg></label><div class='xr-var-attrs'><dl class='xr-attrs'></dl></div><div class='xr-var-data'><pre>array([113.75, 114.  , 114.25, 114.5 , 114.75, 115.  , 115.25, 115.5 , 115.75,\n",
       "       116.  , 116.25, 116.5 , 116.75, 117.  , 117.25, 117.5 , 117.75, 118.  ,\n",
       "       118.25, 118.5 , 118.75, 119.  , 119.25, 119.5 , 119.75, 120.  , 120.25,\n",
       "       120.5 , 120.75, 121.  , 121.25, 121.5 , 121.75, 122.  , 122.25, 122.5 ,\n",
       "       122.75, 123.  , 123.25, 123.5 , 123.75, 124.  , 124.25, 124.5 , 124.75,\n",
       "       125.  , 125.25, 125.5 , 125.75, 126.  , 126.25, 126.5 , 126.75, 127.  ,\n",
       "       127.25, 127.5 , 127.75, 128.  , 128.25, 128.5 , 128.75, 129.  , 129.25,\n",
       "       129.5 , 129.75, 130.  , 130.25, 130.5 , 130.75, 131.  , 131.25, 131.5 ,\n",
       "       131.75, 132.  , 132.25, 132.5 , 132.75, 133.  , 133.25, 133.5 , 133.75,\n",
       "       134.  , 134.25, 134.5 , 134.75, 135.  , 135.25, 135.5 , 135.75, 136.  ,\n",
       "       136.25, 136.5 , 136.75, 137.  , 137.25, 137.5 , 137.75, 138.  , 138.25,\n",
       "       138.5 , 138.75, 139.  , 139.25, 139.5 , 139.75, 140.  , 140.25, 140.5 ,\n",
       "       140.75, 141.  , 141.25, 141.5 , 141.75, 142.  , 142.25, 142.5 , 142.75,\n",
       "       143.  , 143.25, 143.5 , 143.75, 144.  , 144.25, 144.5 , 144.75, 145.  ,\n",
       "       145.25, 145.5 , 145.75, 146.  , 146.25, 146.5 , 146.75, 147.  , 147.25,\n",
       "       147.5 , 147.75, 148.  , 148.25, 148.5 , 148.75, 149.  , 149.25, 149.5 ,\n",
       "       149.75, 150.  , 150.25, 150.5 , 150.75])</pre></div></li><li class='xr-var-item'><div class='xr-var-name'><span class='xr-has-index'>time</span></div><div class='xr-var-dims'>(time)</div><div class='xr-var-dtype'>datetime64[ns]</div><div class='xr-var-preview xr-preview'>1974-10-01 ... 2020-03-31</div><input id='attrs-3d1d6de1-3267-4103-a004-b9c5c6f54111' class='xr-var-attrs-in' type='checkbox' disabled><label for='attrs-3d1d6de1-3267-4103-a004-b9c5c6f54111' title='Show/Hide attributes'><svg class='icon xr-icon-file-text2'><use xlink:href='#icon-file-text2'></use></svg></label><input id='data-c1c0d641-9c6e-499b-b761-68dbec085e73' class='xr-var-data-in' type='checkbox'><label for='data-c1c0d641-9c6e-499b-b761-68dbec085e73' title='Show/Hide data repr'><svg class='icon xr-icon-database'><use xlink:href='#icon-database'></use></svg></label><div class='xr-var-attrs'><dl class='xr-attrs'></dl></div><div class='xr-var-data'><pre>array([&#x27;1974-10-01T00:00:00.000000000&#x27;, &#x27;1974-10-02T00:00:00.000000000&#x27;,\n",
       "       &#x27;1974-10-03T00:00:00.000000000&#x27;, ..., &#x27;2020-03-29T00:00:00.000000000&#x27;,\n",
       "       &#x27;2020-03-30T00:00:00.000000000&#x27;, &#x27;2020-03-31T00:00:00.000000000&#x27;],\n",
       "      dtype=&#x27;datetime64[ns]&#x27;)</pre></div></li></ul></div></li><li class='xr-section-item'><input id='section-de94e2fa-f2a5-49eb-8a77-739c325864e8' class='xr-section-summary-in' type='checkbox'  checked><label for='section-de94e2fa-f2a5-49eb-8a77-739c325864e8' class='xr-section-summary' >Data variables: <span>(1)</span></label><div class='xr-section-inline-details'></div><div class='xr-section-details'><ul class='xr-var-list'><li class='xr-var-item'><div class='xr-var-name'><span>precip</span></div><div class='xr-var-dims'>(time, lat, lon)</div><div class='xr-var-dtype'>float64</div><div class='xr-var-preview xr-preview'>nan nan nan nan ... nan nan nan nan</div><input id='attrs-029b4825-7ade-4331-8f5c-a60cf629695e' class='xr-var-attrs-in' type='checkbox' disabled><label for='attrs-029b4825-7ade-4331-8f5c-a60cf629695e' title='Show/Hide attributes'><svg class='icon xr-icon-file-text2'><use xlink:href='#icon-file-text2'></use></svg></label><input id='data-ee5cd54c-00a8-4b5c-a789-440ff1191191' class='xr-var-data-in' type='checkbox'><label for='data-ee5cd54c-00a8-4b5c-a789-440ff1191191' title='Show/Hide data repr'><svg class='icon xr-icon-database'><use xlink:href='#icon-database'></use></svg></label><div class='xr-var-attrs'><dl class='xr-attrs'></dl></div><div class='xr-var-data'><pre>array([[[       nan,        nan,        nan, ...,        nan,\n",
       "                nan,        nan],\n",
       "        [       nan,        nan,        nan, ...,        nan,\n",
       "         1.01380226, 1.09522086],\n",
       "        [       nan,        nan,        nan, ...,        nan,\n",
       "                nan,        nan],\n",
       "        ...,\n",
       "        [       nan,        nan,        nan, ...,        nan,\n",
       "                nan,        nan],\n",
       "        [       nan,        nan,        nan, ...,        nan,\n",
       "                nan,        nan],\n",
       "        [       nan,        nan,        nan, ...,        nan,\n",
       "                nan,        nan]],\n",
       "\n",
       "       [[       nan,        nan,        nan, ..., 1.83617008,\n",
       "         4.31243141, 1.59116001],\n",
       "        [       nan,        nan,        nan, ...,        nan,\n",
       "         1.26735134,        nan],\n",
       "        [       nan,        nan,        nan, ...,        nan,\n",
       "                nan,        nan],\n",
       "...\n",
       "        [       nan,        nan,        nan, ...,        nan,\n",
       "                nan,        nan],\n",
       "        [       nan,        nan,        nan, ...,        nan,\n",
       "                nan,        nan],\n",
       "        [       nan,        nan,        nan, ...,        nan,\n",
       "                nan,        nan]],\n",
       "\n",
       "       [[       nan,        nan,        nan, ...,        nan,\n",
       "                nan,        nan],\n",
       "        [       nan,        nan,        nan, ...,        nan,\n",
       "                nan,        nan],\n",
       "        [       nan,        nan,        nan, ..., 1.12281539,\n",
       "                nan,        nan],\n",
       "        ...,\n",
       "        [       nan,        nan,        nan, ...,        nan,\n",
       "                nan,        nan],\n",
       "        [       nan,        nan,        nan, ...,        nan,\n",
       "                nan,        nan],\n",
       "        [       nan,        nan,        nan, ...,        nan,\n",
       "                nan,        nan]]])</pre></div></li></ul></div></li><li class='xr-section-item'><input id='section-f42cafa5-dd92-4a38-b9a8-5c8057866780' class='xr-section-summary-in' type='checkbox'  checked><label for='section-f42cafa5-dd92-4a38-b9a8-5c8057866780' class='xr-section-summary' >Attributes: <span>(2)</span></label><div class='xr-section-inline-details'></div><div class='xr-section-details'><dl class='xr-attrs'><dt><span>Information :</span></dt><dd>Only contains the wet season [10,11,12,1,2,3],rainfall &gt;= 1mm and the North of Australia</dd><dt><span>History :</span></dt><dd>AGCD Regrid on the 11th of June 2021 from /g/data/rr5 by ab2313</dd></dl></div></li></ul></div></div>"
      ],
      "text/plain": [
       "<xarray.Dataset>\n",
       "Dimensions:  (lat: 52, lon: 149, time: 6962)\n",
       "Coordinates:\n",
       "  * lat      (lat) float64 -23.0 -22.75 -22.5 -22.25 ... -10.5 -10.25 -10.0\n",
       "  * lon      (lon) float64 113.8 114.0 114.2 114.5 ... 150.0 150.2 150.5 150.8\n",
       "  * time     (time) datetime64[ns] 1974-10-01 1974-10-02 ... 2020-03-31\n",
       "Data variables:\n",
       "    precip   (time, lat, lon) float64 nan nan nan nan nan ... nan nan nan nan\n",
       "Attributes:\n",
       "    Information:  Only contains the wet season [10,11,12,1,2,3],rainfall >= 1...\n",
       "    History:      AGCD Regrid on the 11th of June 2021 from /g/data/rr5 by ab..."
      ]
     },
     "execution_count": 14,
     "metadata": {},
     "output_type": "execute_result"
    }
   ],
   "source": [
    "awap"
   ]
  },
  {
   "cell_type": "code",
   "execution_count": 15,
   "metadata": {},
   "outputs": [
    {
     "data": {
      "text/plain": [
       "<matplotlib.collections.QuadMesh at 0x7ff7919a7d90>"
      ]
     },
     "execution_count": 15,
     "metadata": {},
     "output_type": "execute_result"
    },
    {
     "data": {
      "image/png": "[encoded data removed]",
      "text/plain": [
       "<Figure size 432x288 with 2 Axes>"
      ]
     },
     "metadata": {
      "needs_background": "light"
     },
     "output_type": "display_data"
    }
   ],
   "source": [
    "awap.sum(dim = 'time').precip.plot()"
   ]
  },
  {
   "cell_type": "code",
   "execution_count": 16,
   "metadata": {},
   "outputs": [
    {
     "data": {
      "text/html": [
       "<div><svg style=\"position: absolute; width: 0; height: 0; overflow: hidden\">\n",
       "<defs>\n",
       "<symbol id=\"icon-database\" viewBox=\"0 0 32 32\">\n",
       "<path d=\"M16 0c-8.837 0-16 2.239-16 5v4c0 2.761 7.163 5 16 5s16-2.239 16-5v-4c0-2.761-7.163-5-16-5z\"></path>\n",
       "<path d=\"M16 17c-8.837 0-16-2.239-16-5v6c0 2.761 7.163 5 16 5s16-2.239 16-5v-6c0 2.761-7.163 5-16 5z\"></path>\n",
       "<path d=\"M16 26c-8.837 0-16-2.239-16-5v6c0 2.761 7.163 5 16 5s16-2.239 16-5v-6c0 2.761-7.163 5-16 5z\"></path>\n",
       "</symbol>\n",
       "<symbol id=\"icon-file-text2\" viewBox=\"0 0 32 32\">\n",
       "<path d=\"M28.681 7.159c-0.694-0.947-1.662-2.053-2.724-3.116s-2.169-2.030-3.116-2.724c-1.612-1.182-2.393-1.319-2.841-1.319h-15.5c-1.378 0-2.5 1.121-2.5 2.5v27c0 1.378 1.122 2.5 2.5 2.5h23c1.378 0 2.5-1.122 2.5-2.5v-19.5c0-0.448-0.137-1.23-1.319-2.841zM24.543 5.457c0.959 0.959 1.712 1.825 2.268 2.543h-4.811v-4.811c0.718 0.556 1.584 1.309 2.543 2.268zM28 29.5c0 0.271-0.229 0.5-0.5 0.5h-23c-0.271 0-0.5-0.229-0.5-0.5v-27c0-0.271 0.229-0.5 0.5-0.5 0 0 15.499-0 15.5 0v7c0 0.552 0.448 1 1 1h7v19.5z\"></path>\n",
       "<path d=\"M23 26h-14c-0.552 0-1-0.448-1-1s0.448-1 1-1h14c0.552 0 1 0.448 1 1s-0.448 1-1 1z\"></path>\n",
       "<path d=\"M23 22h-14c-0.552 0-1-0.448-1-1s0.448-1 1-1h14c0.552 0 1 0.448 1 1s-0.448 1-1 1z\"></path>\n",
       "<path d=\"M23 18h-14c-0.552 0-1-0.448-1-1s0.448-1 1-1h14c0.552 0 1 0.448 1 1s-0.448 1-1 1z\"></path>\n",
       "</symbol>\n",
       "</defs>\n",
       "</svg>\n",
       "<style>/* CSS stylesheet for displaying xarray objects in jupyterlab.\n",
       " *\n",
       " */\n",
       "\n",
       ":root {\n",
       "  --xr-font-color0: var(--jp-content-font-color0, rgba(0, 0, 0, 1));\n",
       "  --xr-font-color2: var(--jp-content-font-color2, rgba(0, 0, 0, 0.54));\n",
       "  --xr-font-color3: var(--jp-content-font-color3, rgba(0, 0, 0, 0.38));\n",
       "  --xr-border-color: var(--jp-border-color2, #e0e0e0);\n",
       "  --xr-disabled-color: var(--jp-layout-color3, #bdbdbd);\n",
       "  --xr-background-color: var(--jp-layout-color0, white);\n",
       "  --xr-background-color-row-even: var(--jp-layout-color1, white);\n",
       "  --xr-background-color-row-odd: var(--jp-layout-color2, #eeeeee);\n",
       "}\n",
       "\n",
       "html[theme=dark],\n",
       "body.vscode-dark {\n",
       "  --xr-font-color0: rgba(255, 255, 255, 1);\n",
       "  --xr-font-color2: rgba(255, 255, 255, 0.54);\n",
       "  --xr-font-color3: rgba(255, 255, 255, 0.38);\n",
       "  --xr-border-color: #1F1F1F;\n",
       "  --xr-disabled-color: #515151;\n",
       "  --xr-background-color: #111111;\n",
       "  --xr-background-color-row-even: #111111;\n",
       "  --xr-background-color-row-odd: #313131;\n",
       "}\n",
       "\n",
       ".xr-wrap {\n",
       "  display: block;\n",
       "  min-width: 300px;\n",
       "  max-width: 700px;\n",
       "}\n",
       "\n",
       ".xr-text-repr-fallback {\n",
       "  /* fallback to plain text repr when CSS is not injected (untrusted notebook) */\n",
       "  display: none;\n",
       "}\n",
       "\n",
       ".xr-header {\n",
       "  padding-top: 6px;\n",
       "  padding-bottom: 6px;\n",
       "  margin-bottom: 4px;\n",
       "  border-bottom: solid 1px var(--xr-border-color);\n",
       "}\n",
       "\n",
       ".xr-header > div,\n",
       ".xr-header > ul {\n",
       "  display: inline;\n",
       "  margin-top: 0;\n",
       "  margin-bottom: 0;\n",
       "}\n",
       "\n",
       ".xr-obj-type,\n",
       ".xr-array-name {\n",
       "  margin-left: 2px;\n",
       "  margin-right: 10px;\n",
       "}\n",
       "\n",
       ".xr-obj-type {\n",
       "  color: var(--xr-font-color2);\n",
       "}\n",
       "\n",
       ".xr-sections {\n",
       "  padding-left: 0 !important;\n",
       "  display: grid;\n",
       "  grid-template-columns: 150px auto auto 1fr 20px 20px;\n",
       "}\n",
       "\n",
       ".xr-section-item {\n",
       "  display: contents;\n",
       "}\n",
       "\n",
       ".xr-section-item input {\n",
       "  display: none;\n",
       "}\n",
       "\n",
       ".xr-section-item input + label {\n",
       "  color: var(--xr-disabled-color);\n",
       "}\n",
       "\n",
       ".xr-section-item input:enabled + label {\n",
       "  cursor: pointer;\n",
       "  color: var(--xr-font-color2);\n",
       "}\n",
       "\n",
       ".xr-section-item input:enabled + label:hover {\n",
       "  color: var(--xr-font-color0);\n",
       "}\n",
       "\n",
       ".xr-section-summary {\n",
       "  grid-column: 1;\n",
       "  color: var(--xr-font-color2);\n",
       "  font-weight: 500;\n",
       "}\n",
       "\n",
       ".xr-section-summary > span {\n",
       "  display: inline-block;\n",
       "  padding-left: 0.5em;\n",
       "}\n",
       "\n",
       ".xr-section-summary-in:disabled + label {\n",
       "  color: var(--xr-font-color2);\n",
       "}\n",
       "\n",
       ".xr-section-summary-in + label:before {\n",
       "  display: inline-block;\n",
       "  content: '►';\n",
       "  font-size: 11px;\n",
       "  width: 15px;\n",
       "  text-align: center;\n",
       "}\n",
       "\n",
       ".xr-section-summary-in:disabled + label:before {\n",
       "  color: var(--xr-disabled-color);\n",
       "}\n",
       "\n",
       ".xr-section-summary-in:checked + label:before {\n",
       "  content: '▼';\n",
       "}\n",
       "\n",
       ".xr-section-summary-in:checked + label > span {\n",
       "  display: none;\n",
       "}\n",
       "\n",
       ".xr-section-summary,\n",
       ".xr-section-inline-details {\n",
       "  padding-top: 4px;\n",
       "  padding-bottom: 4px;\n",
       "}\n",
       "\n",
       ".xr-section-inline-details {\n",
       "  grid-column: 2 / -1;\n",
       "}\n",
       "\n",
       ".xr-section-details {\n",
       "  display: none;\n",
       "  grid-column: 1 / -1;\n",
       "  margin-bottom: 5px;\n",
       "}\n",
       "\n",
       ".xr-section-summary-in:checked ~ .xr-section-details {\n",
       "  display: contents;\n",
       "}\n",
       "\n",
       ".xr-array-wrap {\n",
       "  grid-column: 1 / -1;\n",
       "  display: grid;\n",
       "  grid-template-columns: 20px auto;\n",
       "}\n",
       "\n",
       ".xr-array-wrap > label {\n",
       "  grid-column: 1;\n",
       "  vertical-align: top;\n",
       "}\n",
       "\n",
       ".xr-preview {\n",
       "  color: var(--xr-font-color3);\n",
       "}\n",
       "\n",
       ".xr-array-preview,\n",
       ".xr-array-data {\n",
       "  padding: 0 5px !important;\n",
       "  grid-column: 2;\n",
       "}\n",
       "\n",
       ".xr-array-data,\n",
       ".xr-array-in:checked ~ .xr-array-preview {\n",
       "  display: none;\n",
       "}\n",
       "\n",
       ".xr-array-in:checked ~ .xr-array-data,\n",
       ".xr-array-preview {\n",
       "  display: inline-block;\n",
       "}\n",
       "\n",
       ".xr-dim-list {\n",
       "  display: inline-block !important;\n",
       "  list-style: none;\n",
       "  padding: 0 !important;\n",
       "  margin: 0;\n",
       "}\n",
       "\n",
       ".xr-dim-list li {\n",
       "  display: inline-block;\n",
       "  padding: 0;\n",
       "  margin: 0;\n",
       "}\n",
       "\n",
       ".xr-dim-list:before {\n",
       "  content: '(';\n",
       "}\n",
       "\n",
       ".xr-dim-list:after {\n",
       "  content: ')';\n",
       "}\n",
       "\n",
       ".xr-dim-list li:not(:last-child):after {\n",
       "  content: ',';\n",
       "  padding-right: 5px;\n",
       "}\n",
       "\n",
       ".xr-has-index {\n",
       "  font-weight: bold;\n",
       "}\n",
       "\n",
       ".xr-var-list,\n",
       ".xr-var-item {\n",
       "  display: contents;\n",
       "}\n",
       "\n",
       ".xr-var-item > div,\n",
       ".xr-var-item label,\n",
       ".xr-var-item > .xr-var-name span {\n",
       "  background-color: var(--xr-background-color-row-even);\n",
       "  margin-bottom: 0;\n",
       "}\n",
       "\n",
       ".xr-var-item > .xr-var-name:hover span {\n",
       "  padding-right: 5px;\n",
       "}\n",
       "\n",
       ".xr-var-list > li:nth-child(odd) > div,\n",
       ".xr-var-list > li:nth-child(odd) > label,\n",
       ".xr-var-list > li:nth-child(odd) > .xr-var-name span {\n",
       "  background-color: var(--xr-background-color-row-odd);\n",
       "}\n",
       "\n",
       ".xr-var-name {\n",
       "  grid-column: 1;\n",
       "}\n",
       "\n",
       ".xr-var-dims {\n",
       "  grid-column: 2;\n",
       "}\n",
       "\n",
       ".xr-var-dtype {\n",
       "  grid-column: 3;\n",
       "  text-align: right;\n",
       "  color: var(--xr-font-color2);\n",
       "}\n",
       "\n",
       ".xr-var-preview {\n",
       "  grid-column: 4;\n",
       "}\n",
       "\n",
       ".xr-var-name,\n",
       ".xr-var-dims,\n",
       ".xr-var-dtype,\n",
       ".xr-preview,\n",
       ".xr-attrs dt {\n",
       "  white-space: nowrap;\n",
       "  overflow: hidden;\n",
       "  text-overflow: ellipsis;\n",
       "  padding-right: 10px;\n",
       "}\n",
       "\n",
       ".xr-var-name:hover,\n",
       ".xr-var-dims:hover,\n",
       ".xr-var-dtype:hover,\n",
       ".xr-attrs dt:hover {\n",
       "  overflow: visible;\n",
       "  width: auto;\n",
       "  z-index: 1;\n",
       "}\n",
       "\n",
       ".xr-var-attrs,\n",
       ".xr-var-data {\n",
       "  display: none;\n",
       "  background-color: var(--xr-background-color) !important;\n",
       "  padding-bottom: 5px !important;\n",
       "}\n",
       "\n",
       ".xr-var-attrs-in:checked ~ .xr-var-attrs,\n",
       ".xr-var-data-in:checked ~ .xr-var-data {\n",
       "  display: block;\n",
       "}\n",
       "\n",
       ".xr-var-data > table {\n",
       "  float: right;\n",
       "}\n",
       "\n",
       ".xr-var-name span,\n",
       ".xr-var-data,\n",
       ".xr-attrs {\n",
       "  padding-left: 25px !important;\n",
       "}\n",
       "\n",
       ".xr-attrs,\n",
       ".xr-var-attrs,\n",
       ".xr-var-data {\n",
       "  grid-column: 1 / -1;\n",
       "}\n",
       "\n",
       "dl.xr-attrs {\n",
       "  padding: 0;\n",
       "  margin: 0;\n",
       "  display: grid;\n",
       "  grid-template-columns: 125px auto;\n",
       "}\n",
       "\n",
       ".xr-attrs dt,\n",
       ".xr-attrs dd {\n",
       "  padding: 0;\n",
       "  margin: 0;\n",
       "  float: left;\n",
       "  padding-right: 10px;\n",
       "  width: auto;\n",
       "}\n",
       "\n",
       ".xr-attrs dt {\n",
       "  font-weight: normal;\n",
       "  grid-column: 1;\n",
       "}\n",
       "\n",
       ".xr-attrs dt:hover span {\n",
       "  display: inline-block;\n",
       "  background: var(--xr-background-color);\n",
       "  padding-right: 10px;\n",
       "}\n",
       "\n",
       ".xr-attrs dd {\n",
       "  grid-column: 2;\n",
       "  white-space: pre-wrap;\n",
       "  word-break: break-all;\n",
       "}\n",
       "\n",
       ".xr-icon-database,\n",
       ".xr-icon-file-text2 {\n",
       "  display: inline-block;\n",
       "  vertical-align: middle;\n",
       "  width: 1em;\n",
       "  height: 1.5em !important;\n",
       "  stroke-width: 0;\n",
       "  stroke: currentColor;\n",
       "  fill: currentColor;\n",
       "}\n",
       "</style><pre class='xr-text-repr-fallback'>&lt;xarray.Dataset&gt;\n",
       "Dimensions:    (time: 6962)\n",
       "Coordinates:\n",
       "  * time       (time) datetime64[ns] 1974-10-01 1974-10-02 ... 2020-03-31\n",
       "Data variables:\n",
       "    RMM1       (time) float64 0.5789 0.7589 0.8966 0.6736 ... 1.938 1.949 1.585\n",
       "    RMM2       (time) float64 -0.9097 -0.9504 -0.5804 ... -0.7391 -0.4871\n",
       "    phase      (time) float64 3.0 3.0 4.0 4.0 4.0 5.0 ... 4.0 4.0 4.0 4.0 4.0\n",
       "    amplitude  (time) float64 1.078 1.216 1.068 0.7765 ... 2.073 2.085 1.659</pre><div class='xr-wrap' hidden><div class='xr-header'><div class='xr-obj-type'>xarray.Dataset</div></div><ul class='xr-sections'><li class='xr-section-item'><input id='section-0d1e7855-5953-43c5-9f3d-819ec6128f50' class='xr-section-summary-in' type='checkbox' disabled ><label for='section-0d1e7855-5953-43c5-9f3d-819ec6128f50' class='xr-section-summary'  title='Expand/collapse section'>Dimensions:</label><div class='xr-section-inline-details'><ul class='xr-dim-list'><li><span class='xr-has-index'>time</span>: 6962</li></ul></div><div class='xr-section-details'></div></li><li class='xr-section-item'><input id='section-4ce50f8e-e9ab-4e1e-ae1c-4e01f59a610b' class='xr-section-summary-in' type='checkbox'  checked><label for='section-4ce50f8e-e9ab-4e1e-ae1c-4e01f59a610b' class='xr-section-summary' >Coordinates: <span>(1)</span></label><div class='xr-section-inline-details'></div><div class='xr-section-details'><ul class='xr-var-list'><li class='xr-var-item'><div class='xr-var-name'><span class='xr-has-index'>time</span></div><div class='xr-var-dims'>(time)</div><div class='xr-var-dtype'>datetime64[ns]</div><div class='xr-var-preview xr-preview'>1974-10-01 ... 2020-03-31</div><input id='attrs-cb1c972a-f811-44c5-aeeb-e8c78b410fa2' class='xr-var-attrs-in' type='checkbox' disabled><label for='attrs-cb1c972a-f811-44c5-aeeb-e8c78b410fa2' title='Show/Hide attributes'><svg class='icon xr-icon-file-text2'><use xlink:href='#icon-file-text2'></use></svg></label><input id='data-52082ba9-0973-416a-b0a6-ef71825f7abe' class='xr-var-data-in' type='checkbox'><label for='data-52082ba9-0973-416a-b0a6-ef71825f7abe' title='Show/Hide data repr'><svg class='icon xr-icon-database'><use xlink:href='#icon-database'></use></svg></label><div class='xr-var-attrs'><dl class='xr-attrs'></dl></div><div class='xr-var-data'><pre>array([&#x27;1974-10-01T00:00:00.000000000&#x27;, &#x27;1974-10-02T00:00:00.000000000&#x27;,\n",
       "       &#x27;1974-10-03T00:00:00.000000000&#x27;, ..., &#x27;2020-03-29T00:00:00.000000000&#x27;,\n",
       "       &#x27;2020-03-30T00:00:00.000000000&#x27;, &#x27;2020-03-31T00:00:00.000000000&#x27;],\n",
       "      dtype=&#x27;datetime64[ns]&#x27;)</pre></div></li></ul></div></li><li class='xr-section-item'><input id='section-67a9e163-5732-43ad-9f96-0b22eeb6a7af' class='xr-section-summary-in' type='checkbox'  checked><label for='section-67a9e163-5732-43ad-9f96-0b22eeb6a7af' class='xr-section-summary' >Data variables: <span>(4)</span></label><div class='xr-section-inline-details'></div><div class='xr-section-details'><ul class='xr-var-list'><li class='xr-var-item'><div class='xr-var-name'><span>RMM1</span></div><div class='xr-var-dims'>(time)</div><div class='xr-var-dtype'>float64</div><div class='xr-var-preview xr-preview'>0.5789 0.7589 ... 1.949 1.585</div><input id='attrs-d1e3698b-104f-44f8-88e9-af9b24b52f7d' class='xr-var-attrs-in' type='checkbox' disabled><label for='attrs-d1e3698b-104f-44f8-88e9-af9b24b52f7d' title='Show/Hide attributes'><svg class='icon xr-icon-file-text2'><use xlink:href='#icon-file-text2'></use></svg></label><input id='data-1e9f2c50-56f5-4252-b0f2-8298954a7e8c' class='xr-var-data-in' type='checkbox'><label for='data-1e9f2c50-56f5-4252-b0f2-8298954a7e8c' title='Show/Hide data repr'><svg class='icon xr-icon-database'><use xlink:href='#icon-database'></use></svg></label><div class='xr-var-attrs'><dl class='xr-attrs'></dl></div><div class='xr-var-data'><pre>array([0.57893199, 0.75894701, 0.896649  , ..., 1.9380838 , 1.9493909 ,\n",
       "       1.5854597 ])</pre></div></li><li class='xr-var-item'><div class='xr-var-name'><span>RMM2</span></div><div class='xr-var-dims'>(time)</div><div class='xr-var-dtype'>float64</div><div class='xr-var-preview xr-preview'>-0.9097 -0.9504 ... -0.7391 -0.4871</div><input id='attrs-6552b083-eed9-4ea7-8637-2eb63422e114' class='xr-var-attrs-in' type='checkbox' disabled><label for='attrs-6552b083-eed9-4ea7-8637-2eb63422e114' title='Show/Hide attributes'><svg class='icon xr-icon-file-text2'><use xlink:href='#icon-file-text2'></use></svg></label><input id='data-cec3a2a8-c843-4c87-8adb-018a96c9c5c3' class='xr-var-data-in' type='checkbox'><label for='data-cec3a2a8-c843-4c87-8adb-018a96c9c5c3' title='Show/Hide data repr'><svg class='icon xr-icon-database'><use xlink:href='#icon-database'></use></svg></label><div class='xr-var-attrs'><dl class='xr-attrs'></dl></div><div class='xr-var-data'><pre>array([-0.90973997, -0.95043999, -0.58042002, ..., -0.7360931 ,\n",
       "       -0.73906523, -0.4871189 ])</pre></div></li><li class='xr-var-item'><div class='xr-var-name'><span>phase</span></div><div class='xr-var-dims'>(time)</div><div class='xr-var-dtype'>float64</div><div class='xr-var-preview xr-preview'>3.0 3.0 4.0 4.0 ... 4.0 4.0 4.0 4.0</div><input id='attrs-a5268c1a-9288-4235-b31e-9b2b4096e425' class='xr-var-attrs-in' type='checkbox' disabled><label for='attrs-a5268c1a-9288-4235-b31e-9b2b4096e425' title='Show/Hide attributes'><svg class='icon xr-icon-file-text2'><use xlink:href='#icon-file-text2'></use></svg></label><input id='data-45400bba-b5f0-48fc-8519-f1496add48d5' class='xr-var-data-in' type='checkbox'><label for='data-45400bba-b5f0-48fc-8519-f1496add48d5' title='Show/Hide data repr'><svg class='icon xr-icon-database'><use xlink:href='#icon-database'></use></svg></label><div class='xr-var-attrs'><dl class='xr-attrs'></dl></div><div class='xr-var-data'><pre>array([3., 3., 4., ..., 4., 4., 4.])</pre></div></li><li class='xr-var-item'><div class='xr-var-name'><span>amplitude</span></div><div class='xr-var-dims'>(time)</div><div class='xr-var-dtype'>float64</div><div class='xr-var-preview xr-preview'>1.078 1.216 1.068 ... 2.085 1.659</div><input id='attrs-21784c19-f288-4fa3-8947-a7f67dc268f9' class='xr-var-attrs-in' type='checkbox' disabled><label for='attrs-21784c19-f288-4fa3-8947-a7f67dc268f9' title='Show/Hide attributes'><svg class='icon xr-icon-file-text2'><use xlink:href='#icon-file-text2'></use></svg></label><input id='data-c8cf7075-10b8-4f3b-bfad-bbdc0473ecd1' class='xr-var-data-in' type='checkbox'><label for='data-c8cf7075-10b8-4f3b-bfad-bbdc0473ecd1' title='Show/Hide data repr'><svg class='icon xr-icon-database'><use xlink:href='#icon-database'></use></svg></label><div class='xr-var-attrs'><dl class='xr-attrs'></dl></div><div class='xr-var-data'><pre>array([1.07833  , 1.21628  , 1.06812  , ..., 2.0731623, 2.0847883,\n",
       "       1.658604 ])</pre></div></li></ul></div></li><li class='xr-section-item'><input id='section-49392c27-21d0-4d88-b14f-27a6e723afb8' class='xr-section-summary-in' type='checkbox' disabled ><label for='section-49392c27-21d0-4d88-b14f-27a6e723afb8' class='xr-section-summary'  title='Expand/collapse section'>Attributes: <span>(0)</span></label><div class='xr-section-inline-details'></div><div class='xr-section-details'><dl class='xr-attrs'></dl></div></li></ul></div></div>"
      ],
      "text/plain": [
       "<xarray.Dataset>\n",
       "Dimensions:    (time: 6962)\n",
       "Coordinates:\n",
       "  * time       (time) datetime64[ns] 1974-10-01 1974-10-02 ... 2020-03-31\n",
       "Data variables:\n",
       "    RMM1       (time) float64 0.5789 0.7589 0.8966 0.6736 ... 1.938 1.949 1.585\n",
       "    RMM2       (time) float64 -0.9097 -0.9504 -0.5804 ... -0.7391 -0.4871\n",
       "    phase      (time) float64 3.0 3.0 4.0 4.0 4.0 5.0 ... 4.0 4.0 4.0 4.0 4.0\n",
       "    amplitude  (time) float64 1.078 1.216 1.068 0.7765 ... 2.073 2.085 1.659"
      ]
     },
     "execution_count": 16,
     "metadata": {},
     "output_type": "execute_result"
    }
   ],
   "source": [
    "rmm"
   ]
  },
  {
   "cell_type": "markdown",
   "metadata": {},
   "source": [
    "# Phase Splitting and Wet Season Calibration"
   ]
  },
  {
   "cell_type": "markdown",
   "metadata": {},
   "source": [
    "Splitting into different MJO phases (1-8) and then moving the data from Jan-March back one year. The moving of the data back one year means that all of the data for an individual wet season is now with in the one year. This makes resampling much easier."
   ]
  },
  {
   "cell_type": "code",
   "execution_count": 17,
   "metadata": {
    "ExecuteTime": {
     "end_time": "2020-04-09T04:08:27.780872Z",
     "start_time": "2020-04-09T04:08:22.669752Z"
    }
   },
   "outputs": [
    {
     "ename": "KeyboardInterrupt",
     "evalue": "",
     "output_type": "error",
     "traceback": [
      "\u001b[0;31m---------------------------------------------------------------------------\u001b[0m",
      "\u001b[0;31mKeyboardInterrupt\u001b[0m                         Traceback (most recent call last)",
      "\u001b[0;32m<ipython-input-17-35ec1a0aa5d5>\u001b[0m in \u001b[0;36m<module>\u001b[0;34m\u001b[0m\n\u001b[1;32m      9\u001b[0m \u001b[0;34m\u001b[0m\u001b[0m\n\u001b[1;32m     10\u001b[0m \u001b[0;31m# Splitting AWAP into the the different phases of the Wheeler and Hendon MJO\u001b[0m\u001b[0;34m\u001b[0m\u001b[0;34m\u001b[0m\u001b[0;34m\u001b[0m\u001b[0m\n\u001b[0;32m---> 11\u001b[0;31m \u001b[0mawap_split_ws\u001b[0m \u001b[0;34m=\u001b[0m \u001b[0mphase_calc\u001b[0m\u001b[0;34m.\u001b[0m\u001b[0msplit_into_1to8\u001b[0m\u001b[0;34m(\u001b[0m\u001b[0mawap_ws\u001b[0m\u001b[0;34m,\u001b[0m \u001b[0mrmm_ws\u001b[0m\u001b[0;34m)\u001b[0m\u001b[0;34m\u001b[0m\u001b[0;34m\u001b[0m\u001b[0m\n\u001b[0m",
      "\u001b[0;32m~/Documents/mjo_and_rainfall_trend/phase_calc_functions.py\u001b[0m in \u001b[0;36msplit_into_1to8\u001b[0;34m(datafile, rmm_xr)\u001b[0m\n\u001b[1;32m     68\u001b[0m \u001b[0;34m\u001b[0m\u001b[0m\n\u001b[1;32m     69\u001b[0m     \u001b[0;31m# Final File\u001b[0m\u001b[0;34m\u001b[0m\u001b[0;34m\u001b[0m\u001b[0;34m\u001b[0m\u001b[0m\n\u001b[0;32m---> 70\u001b[0;31m     \u001b[0mdatafile_RMM_split\u001b[0m \u001b[0;34m=\u001b[0m \u001b[0mxr\u001b[0m\u001b[0;34m.\u001b[0m\u001b[0mconcat\u001b[0m\u001b[0;34m(\u001b[0m\u001b[0msingle_phase\u001b[0m\u001b[0;34m,\u001b[0m \u001b[0mpd\u001b[0m\u001b[0;34m.\u001b[0m\u001b[0mIndex\u001b[0m\u001b[0;34m(\u001b[0m\u001b[0mphases\u001b[0m\u001b[0;34m,\u001b[0m \u001b[0mname\u001b[0m \u001b[0;34m=\u001b[0m \u001b[0;34m'phase'\u001b[0m\u001b[0;34m)\u001b[0m\u001b[0;34m)\u001b[0m\u001b[0;34m\u001b[0m\u001b[0;34m\u001b[0m\u001b[0m\n\u001b[0m\u001b[1;32m     71\u001b[0m \u001b[0;34m\u001b[0m\u001b[0m\n\u001b[1;32m     72\u001b[0m \u001b[0;34m\u001b[0m\u001b[0m\n",
      "\u001b[0;32m/g/data3/hh5/public/apps/miniconda3/envs/analysis3-21.04/lib/python3.8/site-packages/xarray/core/concat.py\u001b[0m in \u001b[0;36mconcat\u001b[0;34m(objs, dim, data_vars, coords, compat, positions, fill_value, join, combine_attrs)\u001b[0m\n\u001b[1;32m    236\u001b[0m             \u001b[0;34mf\"objects, got {type(first_obj)}\"\u001b[0m\u001b[0;34m\u001b[0m\u001b[0;34m\u001b[0m\u001b[0m\n\u001b[1;32m    237\u001b[0m         )\n\u001b[0;32m--> 238\u001b[0;31m     return f(\n\u001b[0m\u001b[1;32m    239\u001b[0m         \u001b[0mobjs\u001b[0m\u001b[0;34m,\u001b[0m \u001b[0mdim\u001b[0m\u001b[0;34m,\u001b[0m \u001b[0mdata_vars\u001b[0m\u001b[0;34m,\u001b[0m \u001b[0mcoords\u001b[0m\u001b[0;34m,\u001b[0m \u001b[0mcompat\u001b[0m\u001b[0;34m,\u001b[0m \u001b[0mpositions\u001b[0m\u001b[0;34m,\u001b[0m \u001b[0mfill_value\u001b[0m\u001b[0;34m,\u001b[0m \u001b[0mjoin\u001b[0m\u001b[0;34m,\u001b[0m \u001b[0mcombine_attrs\u001b[0m\u001b[0;34m\u001b[0m\u001b[0;34m\u001b[0m\u001b[0m\n\u001b[1;32m    240\u001b[0m     )\n",
      "\u001b[0;32m/g/data3/hh5/public/apps/miniconda3/envs/analysis3-21.04/lib/python3.8/site-packages/xarray/core/concat.py\u001b[0m in \u001b[0;36m_dataset_concat\u001b[0;34m(datasets, dim, data_vars, coords, compat, positions, fill_value, join, combine_attrs)\u001b[0m\n\u001b[1;32m    506\u001b[0m             \u001b[0;32mexcept\u001b[0m \u001b[0mKeyError\u001b[0m\u001b[0;34m:\u001b[0m\u001b[0;34m\u001b[0m\u001b[0;34m\u001b[0m\u001b[0m\n\u001b[1;32m    507\u001b[0m                 \u001b[0;32mraise\u001b[0m \u001b[0mValueError\u001b[0m\u001b[0;34m(\u001b[0m\u001b[0;34mf\"{k!r} is not present in all datasets.\"\u001b[0m\u001b[0;34m)\u001b[0m\u001b[0;34m\u001b[0m\u001b[0;34m\u001b[0m\u001b[0m\n\u001b[0;32m--> 508\u001b[0;31m             \u001b[0mcombined\u001b[0m \u001b[0;34m=\u001b[0m \u001b[0mconcat_vars\u001b[0m\u001b[0;34m(\u001b[0m\u001b[0mvars\u001b[0m\u001b[0;34m,\u001b[0m \u001b[0mdim\u001b[0m\u001b[0;34m,\u001b[0m \u001b[0mpositions\u001b[0m\u001b[0;34m,\u001b[0m \u001b[0mcombine_attrs\u001b[0m\u001b[0;34m=\u001b[0m\u001b[0mcombine_attrs\u001b[0m\u001b[0;34m)\u001b[0m\u001b[0;34m\u001b[0m\u001b[0;34m\u001b[0m\u001b[0m\n\u001b[0m\u001b[1;32m    509\u001b[0m             \u001b[0;32massert\u001b[0m \u001b[0misinstance\u001b[0m\u001b[0;34m(\u001b[0m\u001b[0mcombined\u001b[0m\u001b[0;34m,\u001b[0m \u001b[0mVariable\u001b[0m\u001b[0;34m)\u001b[0m\u001b[0;34m\u001b[0m\u001b[0;34m\u001b[0m\u001b[0m\n\u001b[1;32m    510\u001b[0m             \u001b[0mresult_vars\u001b[0m\u001b[0;34m[\u001b[0m\u001b[0mk\u001b[0m\u001b[0;34m]\u001b[0m \u001b[0;34m=\u001b[0m \u001b[0mcombined\u001b[0m\u001b[0;34m\u001b[0m\u001b[0;34m\u001b[0m\u001b[0m\n",
      "\u001b[0;32m/g/data3/hh5/public/apps/miniconda3/envs/analysis3-21.04/lib/python3.8/site-packages/xarray/core/variable.py\u001b[0m in \u001b[0;36mconcat\u001b[0;34m(variables, dim, positions, shortcut, combine_attrs)\u001b[0m\n\u001b[1;32m   2860\u001b[0m         \u001b[0;32mreturn\u001b[0m \u001b[0mIndexVariable\u001b[0m\u001b[0;34m.\u001b[0m\u001b[0mconcat\u001b[0m\u001b[0;34m(\u001b[0m\u001b[0mvariables\u001b[0m\u001b[0;34m,\u001b[0m \u001b[0mdim\u001b[0m\u001b[0;34m,\u001b[0m \u001b[0mpositions\u001b[0m\u001b[0;34m,\u001b[0m \u001b[0mshortcut\u001b[0m\u001b[0;34m,\u001b[0m \u001b[0mcombine_attrs\u001b[0m\u001b[0;34m)\u001b[0m\u001b[0;34m\u001b[0m\u001b[0;34m\u001b[0m\u001b[0m\n\u001b[1;32m   2861\u001b[0m     \u001b[0;32melse\u001b[0m\u001b[0;34m:\u001b[0m\u001b[0;34m\u001b[0m\u001b[0;34m\u001b[0m\u001b[0m\n\u001b[0;32m-> 2862\u001b[0;31m         \u001b[0;32mreturn\u001b[0m \u001b[0mVariable\u001b[0m\u001b[0;34m.\u001b[0m\u001b[0mconcat\u001b[0m\u001b[0;34m(\u001b[0m\u001b[0mvariables\u001b[0m\u001b[0;34m,\u001b[0m \u001b[0mdim\u001b[0m\u001b[0;34m,\u001b[0m \u001b[0mpositions\u001b[0m\u001b[0;34m,\u001b[0m \u001b[0mshortcut\u001b[0m\u001b[0;34m,\u001b[0m \u001b[0mcombine_attrs\u001b[0m\u001b[0;34m)\u001b[0m\u001b[0;34m\u001b[0m\u001b[0;34m\u001b[0m\u001b[0m\n\u001b[0m\u001b[1;32m   2863\u001b[0m \u001b[0;34m\u001b[0m\u001b[0m\n\u001b[1;32m   2864\u001b[0m \u001b[0;34m\u001b[0m\u001b[0m\n",
      "\u001b[0;32m/g/data3/hh5/public/apps/miniconda3/envs/analysis3-21.04/lib/python3.8/site-packages/xarray/core/variable.py\u001b[0m in \u001b[0;36mconcat\u001b[0;34m(cls, variables, dim, positions, shortcut, combine_attrs)\u001b[0m\n\u001b[1;32m   1819\u001b[0m             \u001b[0maxis\u001b[0m \u001b[0;34m=\u001b[0m \u001b[0mfirst_var\u001b[0m\u001b[0;34m.\u001b[0m\u001b[0mget_axis_num\u001b[0m\u001b[0;34m(\u001b[0m\u001b[0mdim\u001b[0m\u001b[0;34m)\u001b[0m\u001b[0;34m\u001b[0m\u001b[0;34m\u001b[0m\u001b[0m\n\u001b[1;32m   1820\u001b[0m             \u001b[0mdims\u001b[0m \u001b[0;34m=\u001b[0m \u001b[0mfirst_var\u001b[0m\u001b[0;34m.\u001b[0m\u001b[0mdims\u001b[0m\u001b[0;34m\u001b[0m\u001b[0;34m\u001b[0m\u001b[0m\n\u001b[0;32m-> 1821\u001b[0;31m             \u001b[0mdata\u001b[0m \u001b[0;34m=\u001b[0m \u001b[0mduck_array_ops\u001b[0m\u001b[0;34m.\u001b[0m\u001b[0mconcatenate\u001b[0m\u001b[0;34m(\u001b[0m\u001b[0marrays\u001b[0m\u001b[0;34m,\u001b[0m \u001b[0maxis\u001b[0m\u001b[0;34m=\u001b[0m\u001b[0maxis\u001b[0m\u001b[0;34m)\u001b[0m\u001b[0;34m\u001b[0m\u001b[0;34m\u001b[0m\u001b[0m\n\u001b[0m\u001b[1;32m   1822\u001b[0m             \u001b[0;32mif\u001b[0m \u001b[0mpositions\u001b[0m \u001b[0;32mis\u001b[0m \u001b[0;32mnot\u001b[0m \u001b[0;32mNone\u001b[0m\u001b[0;34m:\u001b[0m\u001b[0;34m\u001b[0m\u001b[0;34m\u001b[0m\u001b[0m\n\u001b[1;32m   1823\u001b[0m                 \u001b[0;31m# TODO: deprecate this option -- we don't need it for groupby\u001b[0m\u001b[0;34m\u001b[0m\u001b[0;34m\u001b[0m\u001b[0;34m\u001b[0m\u001b[0m\n",
      "\u001b[0;32m/g/data3/hh5/public/apps/miniconda3/envs/analysis3-21.04/lib/python3.8/site-packages/xarray/core/duck_array_ops.py\u001b[0m in \u001b[0;36mconcatenate\u001b[0;34m(arrays, axis)\u001b[0m\n\u001b[1;32m    310\u001b[0m \u001b[0;32mdef\u001b[0m \u001b[0mconcatenate\u001b[0m\u001b[0;34m(\u001b[0m\u001b[0marrays\u001b[0m\u001b[0;34m,\u001b[0m \u001b[0maxis\u001b[0m\u001b[0;34m=\u001b[0m\u001b[0;36m0\u001b[0m\u001b[0;34m)\u001b[0m\u001b[0;34m:\u001b[0m\u001b[0;34m\u001b[0m\u001b[0;34m\u001b[0m\u001b[0m\n\u001b[1;32m    311\u001b[0m     \u001b[0;34m\"\"\"concatenate() with better dtype promotion rules.\"\"\"\u001b[0m\u001b[0;34m\u001b[0m\u001b[0;34m\u001b[0m\u001b[0m\n\u001b[0;32m--> 312\u001b[0;31m     \u001b[0;32mreturn\u001b[0m \u001b[0m_concatenate\u001b[0m\u001b[0;34m(\u001b[0m\u001b[0mas_shared_dtype\u001b[0m\u001b[0;34m(\u001b[0m\u001b[0marrays\u001b[0m\u001b[0;34m)\u001b[0m\u001b[0;34m,\u001b[0m \u001b[0maxis\u001b[0m\u001b[0;34m=\u001b[0m\u001b[0maxis\u001b[0m\u001b[0;34m)\u001b[0m\u001b[0;34m\u001b[0m\u001b[0;34m\u001b[0m\u001b[0m\n\u001b[0m\u001b[1;32m    313\u001b[0m \u001b[0;34m\u001b[0m\u001b[0m\n\u001b[1;32m    314\u001b[0m \u001b[0;34m\u001b[0m\u001b[0m\n",
      "\u001b[0;32m/g/data3/hh5/public/apps/miniconda3/envs/analysis3-21.04/lib/python3.8/site-packages/xarray/core/duck_array_ops.py\u001b[0m in \u001b[0;36mf\u001b[0;34m(*args, **kwargs)\u001b[0m\n\u001b[1;32m     54\u001b[0m             \u001b[0;32melse\u001b[0m\u001b[0;34m:\u001b[0m\u001b[0;34m\u001b[0m\u001b[0;34m\u001b[0m\u001b[0m\n\u001b[1;32m     55\u001b[0m                 \u001b[0mwrapped\u001b[0m \u001b[0;34m=\u001b[0m \u001b[0mgetattr\u001b[0m\u001b[0;34m(\u001b[0m\u001b[0meager_module\u001b[0m\u001b[0;34m,\u001b[0m \u001b[0mname\u001b[0m\u001b[0;34m)\u001b[0m\u001b[0;34m\u001b[0m\u001b[0;34m\u001b[0m\u001b[0m\n\u001b[0;32m---> 56\u001b[0;31m             \u001b[0;32mreturn\u001b[0m \u001b[0mwrapped\u001b[0m\u001b[0;34m(\u001b[0m\u001b[0;34m*\u001b[0m\u001b[0margs\u001b[0m\u001b[0;34m,\u001b[0m \u001b[0;34m**\u001b[0m\u001b[0mkwargs\u001b[0m\u001b[0;34m)\u001b[0m\u001b[0;34m\u001b[0m\u001b[0;34m\u001b[0m\u001b[0m\n\u001b[0m\u001b[1;32m     57\u001b[0m \u001b[0;34m\u001b[0m\u001b[0m\n\u001b[1;32m     58\u001b[0m     \u001b[0;32melse\u001b[0m\u001b[0;34m:\u001b[0m\u001b[0;34m\u001b[0m\u001b[0;34m\u001b[0m\u001b[0m\n",
      "\u001b[0;32m<__array_function__ internals>\u001b[0m in \u001b[0;36mconcatenate\u001b[0;34m(*args, **kwargs)\u001b[0m\n",
      "\u001b[0;31mKeyboardInterrupt\u001b[0m: "
     ]
    }
   ],
   "source": [
    "# Readjusting the years, so when a resample takes plact, it is just the data for one wet season. If \n",
    "# this was not done it would be the end half of one wet season and the start of another. This moves that data\n",
    "# from the start of the wet season back or forwards a year (I don't remember), so that they line up\n",
    "\n",
    "phase_calc = reload(phase_calc)\n",
    "awap_ws = phase_calc.wet_season_year(awap)\n",
    "\n",
    "rmm_ws = phase_calc.wet_season_year(rmm)\n",
    "\n",
    "# Splitting AWAP into the the different phases of the Wheeler and Hendon MJO\n",
    "awap_split_ws = phase_calc.split_into_1to8(awap_ws, rmm_ws)"
   ]
  },
  {
   "cell_type": "code",
   "execution_count": null,
   "metadata": {},
   "outputs": [],
   "source": [
    "awap_ws"
   ]
  },
  {
   "cell_type": "code",
   "execution_count": null,
   "metadata": {
    "ExecuteTime": {
     "end_time": "2020-04-09T04:08:27.805657Z",
     "start_time": "2020-04-09T04:08:27.782999Z"
    }
   },
   "outputs": [],
   "source": [
    "awap_split_ws"
   ]
  },
  {
   "cell_type": "markdown",
   "metadata": {},
   "source": [
    "## Extreme Filter"
   ]
  },
  {
   "cell_type": "markdown",
   "metadata": {},
   "source": [
    "If extreme != 0, then this will make the data set only contain rainfall that is greater than the qth percentile."
   ]
  },
  {
   "cell_type": "code",
   "execution_count": null,
   "metadata": {},
   "outputs": [],
   "source": [
    "extreme = 0\n",
    "q = 95"
   ]
  },
  {
   "cell_type": "code",
   "execution_count": null,
   "metadata": {
    "ExecuteTime": {
     "end_time": "2020-04-09T04:08:28.497959Z",
     "start_time": "2020-04-09T04:08:27.807561Z"
    }
   },
   "outputs": [],
   "source": [
    "# Below the file gets overrided into an extreme file, this is for emergencies\n",
    "awap_split_ws_origonal = awap_split_ws.copy(deep = True)"
   ]
  },
  {
   "cell_type": "code",
   "execution_count": null,
   "metadata": {
    "ExecuteTime": {
     "end_time": "2020-04-09T04:08:28.503027Z",
     "start_time": "2020-04-09T04:08:28.500136Z"
    }
   },
   "outputs": [],
   "source": [
    "awap_split_ws = awap_split_ws_origonal"
   ]
  },
  {
   "cell_type": "code",
   "execution_count": null,
   "metadata": {
    "ExecuteTime": {
     "end_time": "2020-04-09T04:08:28.520680Z",
     "start_time": "2020-04-09T04:08:28.506215Z"
    }
   },
   "outputs": [],
   "source": [
    "# The same functions below apply for extreme rainfall. Just changing the rainfall to only extremes here.\n",
    "# THe ex-piece adds on to the tile, so they don't get saved as the same name\n",
    "\n",
    "if extreme:\n",
    "\n",
    "    threshold = awap_split_ws.reduce(np.nanpercentile, dim = 'time', q = q)\n",
    "    awap_split_ws = awap_split_ws.where(awap_split_ws.precip >= threshold.precip)\n",
    "    ex_piece = f'{q}th_percentile'\n",
    "else:\n",
    "    ex_piece = ''"
   ]
  },
  {
   "cell_type": "code",
   "execution_count": null,
   "metadata": {
    "ExecuteTime": {
     "end_time": "2020-04-09T04:08:28.532080Z",
     "start_time": "2020-04-09T04:08:28.522672Z"
    }
   },
   "outputs": [],
   "source": [
    "# Removign the points outside of a range that is too big\n",
    "def max_filter(data, vmax):\n",
    "    data = data.where(data.trend < vmax, vmax - 0.01)\n",
    "    data = data.where(data.trend > -vmax, -vmax + 0.01)\n",
    "    \n",
    "    from miscellaneous import apply_masks\n",
    "    data = apply_masks(data)\n",
    "    \n",
    "    return data"
   ]
  },
  {
   "cell_type": "code",
   "execution_count": null,
   "metadata": {},
   "outputs": [],
   "source": [
    "# Removign the points outside of a range that is too big\n",
    "def min_filter(data, vmin):\n",
    "    data = data.where(data.trend > vmin, vmin + 0.01)\n",
    "    \n",
    "    from miscellaneous import apply_masks\n",
    "    data = apply_masks(data)\n",
    "    \n",
    "    return data"
   ]
  },
  {
   "cell_type": "markdown",
   "metadata": {
    "heading_collapsed": true
   },
   "source": [
    "# Count"
   ]
  },
  {
   "cell_type": "markdown",
   "metadata": {
    "hidden": true
   },
   "source": [
    "## Resampling"
   ]
  },
  {
   "cell_type": "markdown",
   "metadata": {
    "hidden": true
   },
   "source": [
    "Counting the number of days in each year in each phase"
   ]
  },
  {
   "cell_type": "code",
   "execution_count": null,
   "metadata": {
    "ExecuteTime": {
     "end_time": "2020-04-09T04:08:29.693950Z",
     "start_time": "2020-04-09T04:08:28.533504Z"
    },
    "hidden": true
   },
   "outputs": [],
   "source": [
    "# Resampling: getting the number of raindays each year (each year is a wet season).\n",
    "awap_count = awap_split_ws.resample(time = 'y').count(dim = 'time')\n",
    "\n",
    "# The index needs to be changed to just the year. Other wise it will be the full date.\n",
    "awap_count['time'] = awap_count.time.dt.year\n",
    "awap_count = awap_count.rename({'time':'year'})"
   ]
  },
  {
   "cell_type": "markdown",
   "metadata": {
    "hidden": true
   },
   "source": [
    "For convecting the trend to subphases. They can be summed across the relevant phases."
   ]
  },
  {
   "cell_type": "code",
   "execution_count": null,
   "metadata": {
    "hidden": true
   },
   "outputs": [],
   "source": [
    "awap_count_sub = phase_calc.resample_phase_to_subphase(awap_count)"
   ]
  },
  {
   "cell_type": "code",
   "execution_count": null,
   "metadata": {
    "ExecuteTime": {
     "end_time": "2020-04-09T04:18:20.928664Z",
     "start_time": "2020-04-09T04:18:20.907762Z"
    },
    "hidden": true
   },
   "outputs": [],
   "source": [
    "awap_count_sub "
   ]
  },
  {
   "cell_type": "markdown",
   "metadata": {
    "hidden": true
   },
   "source": [
    "## Linear Trends"
   ]
  },
  {
   "cell_type": "code",
   "execution_count": null,
   "metadata": {
    "hidden": true
   },
   "outputs": [],
   "source": [
    "awap_count_sub"
   ]
  },
  {
   "cell_type": "code",
   "execution_count": null,
   "metadata": {
    "hidden": true,
    "scrolled": true
   },
   "outputs": [],
   "source": [
    "awap_count_sub.precip"
   ]
  },
  {
   "cell_type": "code",
   "execution_count": null,
   "metadata": {
    "hidden": true
   },
   "outputs": [],
   "source": [
    "list(awap_count_sub.coords)"
   ]
  },
  {
   "cell_type": "code",
   "execution_count": null,
   "metadata": {
    "ExecuteTime": {
     "end_time": "2020-04-09T04:12:25.389397Z",
     "start_time": "2020-04-09T04:07:40.928Z"
    },
    "hidden": true
   },
   "outputs": [],
   "source": [
    "# This is the raw trend, the data has not been normalised\n",
    "phase_calc = reload(phase_calc)\n",
    "trend_count_sub, trend_sig_count_sub, trend_percent_count_sub, trend_percent_sig_count_sub = \\\n",
    "    phase_calc.return_alltrendinfo_custom(awap_count_sub.precip)"
   ]
  },
  {
   "cell_type": "code",
   "execution_count": null,
   "metadata": {
    "hidden": true
   },
   "outputs": [],
   "source": [
    "trend_count_sub"
   ]
  },
  {
   "cell_type": "code",
   "execution_count": null,
   "metadata": {
    "hidden": true
   },
   "outputs": [],
   "source": [
    "trend_count_sub.lon.values"
   ]
  },
  {
   "cell_type": "code",
   "execution_count": null,
   "metadata": {
    "hidden": true
   },
   "outputs": [],
   "source": [
    "np.unique(np.diff(trend_count_sub.lon.values), return_counts = True)"
   ]
  },
  {
   "cell_type": "code",
   "execution_count": null,
   "metadata": {
    "hidden": true
   },
   "outputs": [],
   "source": [
    "trend_count_sub.lat.values"
   ]
  },
  {
   "cell_type": "code",
   "execution_count": null,
   "metadata": {
    "hidden": true
   },
   "outputs": [],
   "source": [
    "np.unique(np.diff(trend_count_sub.lat.values), return_counts = True)"
   ]
  },
  {
   "cell_type": "code",
   "execution_count": null,
   "metadata": {
    "hidden": true
   },
   "outputs": [],
   "source": [
    "trend_count_sub.sel(phase = 'enhanced').trend.plot()"
   ]
  },
  {
   "cell_type": "code",
   "execution_count": null,
   "metadata": {
    "ExecuteTime": {
     "end_time": "2020-04-09T04:20:08.709569Z",
     "start_time": "2020-04-09T04:18:20.930722Z"
    },
    "hidden": true,
    "scrolled": true
   },
   "outputs": [],
   "source": [
    "# Trend that is normalised by the number of days in each phase\n",
    "\n",
    "phase_calc = reload(phase_calc)\n",
    "trend_count_sub_norm, trend_sig_count_sub_norm, trend_percent_count_sub_norm, trend_percent_sig_count_sub_norm = \\\n",
    "    phase_calc.return_alltrendinfo_custom(awap_count_sub.precip, normalise = 'subphase')"
   ]
  },
  {
   "cell_type": "code",
   "execution_count": null,
   "metadata": {
    "hidden": true
   },
   "outputs": [],
   "source": [
    "trend_count_sub_norm"
   ]
  },
  {
   "cell_type": "markdown",
   "metadata": {
    "hidden": true
   },
   "source": [
    "## Plots"
   ]
  },
  {
   "cell_type": "code",
   "execution_count": null,
   "metadata": {
    "ExecuteTime": {
     "end_time": "2020-04-09T04:25:29.330629Z",
     "start_time": "2020-04-09T04:25:29.315564Z"
    },
    "hidden": true
   },
   "outputs": [],
   "source": [
    "import map_trend_functions as mapTrend"
   ]
  },
  {
   "cell_type": "markdown",
   "metadata": {
    "hidden": true
   },
   "source": [
    "<div class=\"alert alert-block alert-success\"> <center> <font color = 'black' size = \"+1.5\"> Subphases  </font></center></div>"
   ]
  },
  {
   "cell_type": "code",
   "execution_count": null,
   "metadata": {
    "hidden": true
   },
   "outputs": [],
   "source": [
    "vmax = 20\n",
    "step = 4"
   ]
  },
  {
   "cell_type": "code",
   "execution_count": null,
   "metadata": {
    "ExecuteTime": {
     "end_time": "2020-04-08T09:11:24.767402Z",
     "start_time": "2020-04-08T09:11:24.756101Z"
    },
    "hidden": true,
    "scrolled": true
   },
   "outputs": [],
   "source": [
    "# Making sure that it is on either side of the bounds, this trend is too big. THis is need or else the color bar\n",
    "# may create the arrow extreneder which will add white to the colorbar and make it unbalanaced.\n",
    "trend_percent_count_sub = max_filter(trend_percent_count_sub, vmax)"
   ]
  },
  {
   "cell_type": "code",
   "execution_count": null,
   "metadata": {
    "hidden": true
   },
   "outputs": [],
   "source": [
    "trend_percent_count_sub.sel(phase = 'enhanced').trend"
   ]
  },
  {
   "cell_type": "code",
   "execution_count": null,
   "metadata": {
    "ExecuteTime": {
     "end_time": "2020-04-08T09:11:31.690138Z",
     "start_time": "2020-04-08T09:11:25.608242Z"
    },
    "hidden": true
   },
   "outputs": [],
   "source": [
    "# mapTrend = reload(mapTrend)\n",
    "# mapTrend.trend_plot_single_phase(trend_percent_count_sub.sel(phase = 'enhanced').trend,\n",
    "#                      stip_data = trend_percent_sig_count_sub.sel(phase = 'enhanced').trend,\n",
    "#                vmax = vmax, step = step, sig_size = 4.5, cmap = 'BrBG',\n",
    "#                title = 'count_all_unnorm_subphase'+ ex_piece, colorbar_title = 'Percent Per Decade'\n",
    "# #                ,savedir = image_dir\n",
    "#                )"
   ]
  },
  {
   "cell_type": "code",
   "execution_count": null,
   "metadata": {
    "hidden": true
   },
   "outputs": [],
   "source": [
    "d = trend_percent_sig_count_sub.sel(phase = 'enhanced')\n",
    "d.where(np.isfinite(d.trend), 1000).trend.plot()"
   ]
  },
  {
   "cell_type": "code",
   "execution_count": null,
   "metadata": {
    "hidden": true
   },
   "outputs": [],
   "source": [
    "trend_percent_sig_count_sub.trend.sel(phase = 'enhanced').plot()"
   ]
  },
  {
   "cell_type": "code",
   "execution_count": null,
   "metadata": {
    "ExecuteTime": {
     "end_time": "2020-04-08T09:11:31.690138Z",
     "start_time": "2020-04-08T09:11:25.608242Z"
    },
    "hidden": true
   },
   "outputs": [],
   "source": [
    "mapTrend = reload(mapTrend)\n",
    "mapTrend.trend_plots(trend_percent_count_sub.trend, stip_data = trend_percent_sig_count_sub.trend,\n",
    "               vmax = vmax, step = step, sig_size = 5.5, cmap = 'BrBG',\n",
    "               title = 'count_all_unnorm_subphase'+ ex_piece, colorbar_title = 'Percent Per Decade'\n",
    "#                ,savedir = image_dir\n",
    "               )"
   ]
  },
  {
   "cell_type": "code",
   "execution_count": null,
   "metadata": {
    "ExecuteTime": {
     "end_time": "2020-04-08T09:17:24.160330Z",
     "start_time": "2020-04-08T09:17:24.024995Z"
    },
    "hidden": true,
    "jupyter": {
     "source_hidden": true
    }
   },
   "outputs": [],
   "source": [
    "# Making sure that it is on either side of the bounds, this trend is too big. THis is need or else the color bar\n",
    "# may create the arrow extreneder which will add white to the colorbar and make it unbalanaced.\n",
    "trend_percent_count_sub_norm = max_filter(trend_percent_count_sub_norm, vmax)"
   ]
  },
  {
   "cell_type": "code",
   "execution_count": null,
   "metadata": {
    "hidden": true
   },
   "outputs": [],
   "source": [
    "trend_percent_count_sub_norm.phase.values"
   ]
  },
  {
   "cell_type": "code",
   "execution_count": null,
   "metadata": {
    "ExecuteTime": {
     "end_time": "2020-04-09T04:25:43.993039Z",
     "start_time": "2020-04-09T04:25:36.852101Z"
    },
    "hidden": true
   },
   "outputs": [],
   "source": [
    "mapTrend = reload(mapTrend)\n",
    "mapTrend.trend_plots(trend_percent_count_sub_norm.trend, stip_data = trend_percent_sig_count_sub_norm.trend,\n",
    "               vmax = vmax, step = step, sig_size = 4.5, cmap = 'BrBG',\n",
    "               title = 'count_sub_all_norm_subphase'+ ex_piece, colorbar_title = 'Percent Per Decade'\n",
    "#                ,savedir = image_dir\n",
    "            )"
   ]
  },
  {
   "cell_type": "markdown",
   "metadata": {
    "heading_collapsed": true
   },
   "source": [
    "# Sum"
   ]
  },
  {
   "cell_type": "markdown",
   "metadata": {
    "hidden": true
   },
   "source": [
    "<div class=\"alert alert-block alert-success\"> <center> <font color = 'black' size = \"+1.5\"> Phases  </font></center></div>"
   ]
  },
  {
   "cell_type": "code",
   "execution_count": null,
   "metadata": {
    "ExecuteTime": {
     "end_time": "2020-04-08T08:32:35.711510Z",
     "start_time": "2020-04-08T08:32:35.707409Z"
    },
    "hidden": true
   },
   "outputs": [],
   "source": [
    "def awap_resample_sum(awap):\n",
    "    awap_resampled = awap.resample(time = 'y').sum(dim = 'time')\n",
    "    awap_resampled['time'] = awap_resampled.time.dt.year\n",
    "    awap_resampled = awap_resampled.rename({'time':'year'})\n",
    "    \n",
    "    return awap_resampled"
   ]
  },
  {
   "cell_type": "code",
   "execution_count": null,
   "metadata": {
    "ExecuteTime": {
     "end_time": "2020-04-08T08:32:40.298568Z",
     "start_time": "2020-04-08T08:32:35.713017Z"
    },
    "hidden": true
   },
   "outputs": [],
   "source": [
    "awap_sum = awap_resample_sum(awap_split_ws_origonal)"
   ]
  },
  {
   "cell_type": "code",
   "execution_count": null,
   "metadata": {
    "ExecuteTime": {
     "end_time": "2020-04-08T08:32:40.367431Z",
     "start_time": "2020-04-08T08:32:40.300334Z"
    },
    "hidden": true
   },
   "outputs": [],
   "source": [
    "awap_sum"
   ]
  },
  {
   "cell_type": "code",
   "execution_count": null,
   "metadata": {
    "hidden": true
   },
   "outputs": [],
   "source": [
    "awap_sum_sub = phase_calc.resample_phase_to_subphase(awap_sum)"
   ]
  },
  {
   "cell_type": "markdown",
   "metadata": {
    "hidden": true
   },
   "source": [
    "<div class=\"alert alert-block alert-success\"> <center> <font color = 'black' size = \"+1.5\"> Subphases  </font></center></div>"
   ]
  },
  {
   "cell_type": "code",
   "execution_count": null,
   "metadata": {
    "ExecuteTime": {
     "end_time": "2020-04-08T08:43:03.831278Z",
     "start_time": "2020-04-08T08:41:05.571931Z"
    },
    "hidden": true
   },
   "outputs": [],
   "source": [
    "phase_calc = reload(phase_calc)\n",
    "trend_sum_sub, trend_sig_sum_sub, trend_percent_sum_sub, trend_percent_sig_sum_sub = \\\n",
    "    phase_calc.return_alltrendinfo_custom(awap_sum_sub.precip)"
   ]
  },
  {
   "cell_type": "code",
   "execution_count": null,
   "metadata": {
    "ExecuteTime": {
     "end_time": "2020-04-08T08:44:56.009839Z",
     "start_time": "2020-04-08T08:43:03.833252Z"
    },
    "hidden": true
   },
   "outputs": [],
   "source": [
    "phase_calc = reload(phase_calc)\n",
    "trend_sum_sub_norm, trend_sig_sum_sub_norm, trend_percent_sum_sub_norm, trend_percent_sig_sum_sub_norm = \\\n",
    "    phase_calc.return_alltrendinfo_custom(awap_sum_sub.precip, normalise = 'subphase')"
   ]
  },
  {
   "cell_type": "markdown",
   "metadata": {
    "hidden": true
   },
   "source": [
    "## Plots"
   ]
  },
  {
   "cell_type": "markdown",
   "metadata": {
    "hidden": true
   },
   "source": [
    "<div class=\"alert alert-block alert-success\"> <center> <font color = 'black' size = \"+1.5\"> Subphases  </font></center></div>"
   ]
  },
  {
   "cell_type": "code",
   "execution_count": null,
   "metadata": {
    "hidden": true
   },
   "outputs": [],
   "source": [
    "vmax = 25\n",
    "step = 5"
   ]
  },
  {
   "cell_type": "code",
   "execution_count": null,
   "metadata": {
    "hidden": true
   },
   "outputs": [],
   "source": [
    "# Making sure that it is on either side of the bounds, this trend is too big. THis is need or else the color bar\n",
    "# may create the arrow extreneder which will add white to the colorbar and make it unbalanaced.\n",
    "trend_percent_sum_sub = max_filter(trend_percent_sum_sub, vmax)"
   ]
  },
  {
   "cell_type": "code",
   "execution_count": null,
   "metadata": {
    "ExecuteTime": {
     "end_time": "2020-04-08T08:45:03.658591Z",
     "start_time": "2020-04-08T08:44:56.011537Z"
    },
    "hidden": true
   },
   "outputs": [],
   "source": [
    "mapTrend = reload(mapTrend)\n",
    "mapTrend.trend_plots(trend_percent_sum_sub.trend, stip_data = trend_percent_sig_sum_sub.trend,\n",
    "                vmax = vmax, step = step, sig_size = 4.5, cmap = 'BrBG',\n",
    "               title = 'sum_all_unnorm_sub'+ ex_piece, colorbar_title = 'Percent Per Decade',\n",
    "#                savedir = savedir\n",
    "               )"
   ]
  },
  {
   "cell_type": "code",
   "execution_count": null,
   "metadata": {
    "hidden": true
   },
   "outputs": [],
   "source": [
    "# Making sure that it is on either side of the bounds, this trend is too big. THis is need or else the color bar\n",
    "# may create the arrow extreneder which will add white to the colorbar and make it unbalanaced.\n",
    "trend_percent_sum_sub_norm = max_filter(trend_percent_sum_sub_norm, vmax)"
   ]
  },
  {
   "cell_type": "code",
   "execution_count": null,
   "metadata": {
    "ExecuteTime": {
     "end_time": "2020-04-08T08:45:11.436433Z",
     "start_time": "2020-04-08T08:45:03.660278Z"
    },
    "hidden": true
   },
   "outputs": [],
   "source": [
    "mapTrend = reload(mapTrend)\n",
    "mapTrend.trend_plots(trend_percent_sum_sub_norm.trend, stip_data = trend_percent_sig_sum_sub_norm.trend,\n",
    "               vmax = vmax, step = step, sig_size = 4.5, cmap = 'BrBG',\n",
    "               title = 'sum_all_norm_sub'+ ex_piece, colorbar_title = 'Percent Per Decade',\n",
    "#                savedir = savedir\n",
    "               )"
   ]
  },
  {
   "cell_type": "markdown",
   "metadata": {},
   "source": [
    "# Combined Plot - Count and Sum"
   ]
  },
  {
   "cell_type": "markdown",
   "metadata": {},
   "source": [
    "GRL only allows a max of four figures. Thus I am combining the plots together"
   ]
  },
  {
   "cell_type": "code",
   "execution_count": null,
   "metadata": {},
   "outputs": [],
   "source": [
    "# Mergind the data sets together so that only two data sets need to be read into the function and not\n",
    "# four. These can then be itterated through using a for loop (for index in data:)\n",
    "\n",
    "\n",
    "# The unormalised data.\n",
    "merged_count_sum =\\\n",
    "        xr.merge([trend_percent_count_sub.rename({'trend':'count'}), \n",
    "                  trend_percent_sum_sub.rename({'trend':'sum'})])\n",
    "\n",
    "stip_count_sum = xr.merge([trend_percent_sig_count_sub.rename({'trend':'count'}),\n",
    "          trend_percent_sig_sum_sub.rename({'trend':'sum'})])\n",
    "\n",
    "merged_count_sum_norm =\\\n",
    "        xr.merge([trend_percent_count_sub_norm .rename({'trend':'count'}), \n",
    "                  trend_percent_sum_sub_norm .rename({'trend':'sum'})])\n",
    "\n",
    "stip_count_sum_norm  = xr.merge([trend_percent_sig_count_sub_norm .rename({'trend':'count'}),\n",
    "          trend_percent_sig_sum_sub_norm .rename({'trend':'sum'})])"
   ]
  },
  {
   "cell_type": "code",
   "execution_count": null,
   "metadata": {},
   "outputs": [],
   "source": [
    "merged_count_sum"
   ]
  },
  {
   "cell_type": "code",
   "execution_count": null,
   "metadata": {},
   "outputs": [],
   "source": [
    "load = reload(load)"
   ]
  },
  {
   "cell_type": "code",
   "execution_count": null,
   "metadata": {},
   "outputs": [],
   "source": [
    "mapTrend = reload(mapTrend)\n",
    "\n",
    "mapTrend.trend_plot_combined_single_phase(merged_count_sum.sel(phase = 'enhanced'),\n",
    "                             stip_data = stip_count_sum.sel(phase = 'enhanced'), vmax = 35, step = 5,\n",
    "                       title = 'merged_count_sum_enhanced_BrBG', colorbar_title = 'Percent Per Decade',\n",
    "                                    phase = 'enhanced', cmap = 'BrBG'\n",
    "#                        ,savedir = image_dir\n",
    "                       )"
   ]
  },
  {
   "cell_type": "code",
   "execution_count": null,
   "metadata": {},
   "outputs": [],
   "source": [
    "mapTrend = reload(mapTrend)\n",
    "\n",
    "mapTrend.trend_plot_combined_better(merged_count_sum, stip_data = stip_count_sum, vmax = 35, step = 5,\n",
    "                       title = 'merged_count_sum_BrBG', colorbar_title = 'Percent Per Decade',\n",
    "                       cmap = 'BrBG'\n",
    "#                       ,savedir = image_dir\n",
    "                       )"
   ]
  },
  {
   "cell_type": "code",
   "execution_count": null,
   "metadata": {},
   "outputs": [],
   "source": [
    "mapTrend = reload(mapTrend)\n",
    "\n",
    "mapTrend.trend_plot_combined_single_phase(merged_count_sum_norm.sel(phase = 'enhanced'),\n",
    "                             stip_data = stip_count_sum_norm.sel(phase = 'enhanced'), vmax = 35, step = 5,\n",
    "                       title = 'merged_count_sum_norm_enhanced_BrBG', colorbar_title = 'Percent Per Decade',\n",
    "                                    phase = 'enhanced', cmap = 'BrBG'\n",
    "#                        ,savedir = image_dir\n",
    "                       )"
   ]
  },
  {
   "cell_type": "code",
   "execution_count": null,
   "metadata": {},
   "outputs": [],
   "source": [
    "mapTrend = reload(mapTrend)\n",
    "mapTrend.trend_plot_combined_better(merged_count_sum_norm , stip_data = stip_count_sum_norm , vmax = 35, step = 5,\n",
    "                       title = 'merged_count_sum_norm_BRBG', colorbar_title = 'Percent Per Decade',\n",
    "                        cmap = 'BrBG'\n",
    "#                        ,savedir = image_dir\n",
    "                       )"
   ]
  },
  {
   "cell_type": "markdown",
   "metadata": {},
   "source": [
    "# Fraction  of Total Trend"
   ]
  },
  {
   "cell_type": "markdown",
   "metadata": {},
   "source": [
    "This code compares the fraction of the trend in the enhanced phase to the trend overall to get an estimate of the total trend."
   ]
  },
  {
   "cell_type": "code",
   "execution_count": null,
   "metadata": {},
   "outputs": [],
   "source": [
    "trend_sum_sub"
   ]
  },
  {
   "cell_type": "markdown",
   "metadata": {},
   "source": [
    "## Total Trend Calc"
   ]
  },
  {
   "cell_type": "code",
   "execution_count": null,
   "metadata": {},
   "outputs": [],
   "source": [
    "phase_calc = reload(phase_calc)\n",
    "awap_ws = phase_calc.wet_season_year(awap)\n",
    "\n",
    "rmm_ws = phase_calc.wet_season_year(rmm)\n",
    "\n",
    "# Splitting AWAP into the the different phases of the Wheeler and Hendon MJO\n",
    "awap_split_ws = phase_calc.split_into_1to8(awap_ws, rmm_ws)"
   ]
  },
  {
   "cell_type": "code",
   "execution_count": null,
   "metadata": {},
   "outputs": [],
   "source": [
    "def count_resample(awap_data):\n",
    "    # countring the rainfall events in each Wheeler and Hendon Phase\n",
    "    awap_count = awap_data.resample(time = 'y').count(dim = 'time')\n",
    "    awap_count['time'] = awap_count.time.dt.year\n",
    "    awap_count = awap_count.rename({'time':'year', 'precip':'number'}) # to match the rmm count\n",
    "    return awap_count\n",
    "\n",
    "def sum_resample(awap_data):\n",
    "    # sumring the rainfall events in each Wheeler and Hendon Phase\n",
    "    awap_sum = awap_data.resample(time = 'y').sum(dim = 'time')\n",
    "    awap_sum['time'] = awap_sum.time.dt.year\n",
    "    awap_sum = awap_sum.rename({'time':'year', 'precip':'number'}) # to match the rmm sum\n",
    "    return awap_sum"
   ]
  },
  {
   "cell_type": "code",
   "execution_count": null,
   "metadata": {},
   "outputs": [],
   "source": [
    "# The number of raindays each wet season.\n",
    "awap_count = count_resample(awap_ws)\n",
    "\n",
    "# The total amount of rainfall each wet season.\n",
    "awap_sum = sum_resample(awap_ws)"
   ]
  },
  {
   "cell_type": "code",
   "execution_count": null,
   "metadata": {},
   "outputs": [],
   "source": [
    "# This is the raw trend, the data has not been normalised\n",
    "phase_calc = reload(phase_calc)\n",
    "trend_count, trend_sig_count, trend_percent_count, trend_percent_sig_count = \\\n",
    "    phase_calc.return_alltrendinfo_custom(awap_count.number)\n",
    "\n",
    "# This is the raw trend, the data has not been normalised\n",
    "phase_calc = reload(phase_calc)\n",
    "trend_sum, trend_sig_sum, trend_percent_sum, trend_percent_sig_sum = \\\n",
    "    phase_calc.return_alltrendinfo_custom(awap_sum.number)"
   ]
  },
  {
   "cell_type": "code",
   "execution_count": null,
   "metadata": {},
   "outputs": [],
   "source": [
    "trend_sum"
   ]
  },
  {
   "cell_type": "markdown",
   "metadata": {},
   "source": [
    "## Comp Calc"
   ]
  },
  {
   "cell_type": "code",
   "execution_count": null,
   "metadata": {},
   "outputs": [],
   "source": [
    "trend_sum"
   ]
  },
  {
   "cell_type": "code",
   "execution_count": null,
   "metadata": {},
   "outputs": [],
   "source": [
    "trend_sum_sub"
   ]
  },
  {
   "cell_type": "code",
   "execution_count": null,
   "metadata": {},
   "outputs": [],
   "source": [
    "trend_count_sub.sel(phase = 'enhanced').trend.plot()"
   ]
  },
  {
   "cell_type": "code",
   "execution_count": null,
   "metadata": {},
   "outputs": [],
   "source": [
    "trend_count.trend.plot()"
   ]
  },
  {
   "cell_type": "code",
   "execution_count": null,
   "metadata": {},
   "outputs": [],
   "source": [
    "frac_count_exp = trend_count_sub.sel(phase = 'enhanced').squeeze() * 100/trend_count\n",
    "frac_sum_exp = trend_sum_sub.sel(phase = 'enhanced').squeeze() * 100/trend_sum"
   ]
  },
  {
   "cell_type": "code",
   "execution_count": null,
   "metadata": {},
   "outputs": [],
   "source": [
    "frac_count_exp = frac_count_exp.where(np.logical_or(\n",
    "                                        trend_percent_count.trend > 1,\n",
    "                                        trend_percent_count.trend < -1),\n",
    "                                      0)\n",
    "frac_sum_exp = frac_sum_exp.where(np.logical_or(\n",
    "                                        trend_percent_sum.trend > 2,\n",
    "                                        trend_percent_sum.trend < -2),\n",
    "                                      0)"
   ]
  },
  {
   "cell_type": "code",
   "execution_count": null,
   "metadata": {},
   "outputs": [],
   "source": [
    "# fig  = plt.figure(figsize = (10,10))\n",
    "# gs = gridspec.GridSpec(2,1, height_ratios = [0.1, 1], hspace = 0.1)\n",
    "import plotting_functions as pf\n",
    "pf = reload(pf)\n",
    "\n",
    "fig, gs = pf.fig_formatter(height_ratios = [1,1], width_ratios = [1, 0.1], hspace = 0.0, wspace = 0.2)\n",
    "\n",
    "\n",
    "vmax = 150\n",
    "vmin = -vmax\n",
    "step = 25\n",
    "cmapi = 'BrBG'\n",
    "# cmapi = 'Blues'\n",
    "\n",
    "\n",
    "cmap, levels = pf.colorbar_creater(vmax, step, cmap = cmapi,vmin = vmin, add_white = 1,extender = 1)\n",
    "\n",
    "ax = fig.add_subplot(gs[0,0], projection = ccrs.PlateCarree())\n",
    "plot = pf.map_plot_with_no_controurf_NWASquare(\n",
    "                            max_filter(frac_count_exp, vmax)['trend'], \n",
    "                            ax, cmap, levels, square = 1)\n",
    "ax.set_title('Number of Raindays', size = 15);\n",
    "ax.annotate('a)', xy = (0.01,1.05), xycoords = 'axes fraction', size = 15)\n",
    "\n",
    "\n",
    "cax = plt.subplot(gs[:,1])\n",
    "ticks = np.core.defchararray.add(levels.astype(str)  , np.tile('%',len(levels)))\n",
    "pf.create_colorbar(plot, cax, levels, \n",
    "                   ticks = ticks,\n",
    "                   cbar_title =  \"Trend\\n(Percent Per Decade)\",\n",
    "                  cbar_titleSize = 12, orientation = 'vertical', rotation = 0)\n",
    "\n",
    "\n",
    "\n",
    "ax = fig.add_subplot(gs[1,0], projection = ccrs.PlateCarree())\n",
    "plot = pf.map_plot_with_no_controurf_NWASquare(\n",
    "    max_filter(frac_sum_exp, vmax)['trend'], \n",
    "                            ax, cmap, levels, square = 1)\n",
    "\n",
    "ax.set_title('Rainfall', size = 15);\n",
    "ax.annotate('b)', xy = (0.01,1.05), xycoords = 'axes fraction', size = 15)\n",
    "\n",
    "\n",
    "# fig.savefig('../images/mjo_and_rainfall_trend_images/percent_contribution_BrBG.png', dpi = 600\n",
    "#            ,bbox_inches = 'tight', pad = 0)"
   ]
  },
  {
   "cell_type": "markdown",
   "metadata": {},
   "source": [
    "# PDF's"
   ]
  },
  {
   "cell_type": "code",
   "execution_count": null,
   "metadata": {},
   "outputs": [],
   "source": [
    "def plot_hist(ax,data, phase, xmax = 700, step = 1, title = '', xlabel = ''):\n",
    "    \n",
    "    \n",
    "    green = '#44a198'\n",
    "    brown = '#c38e3f'#'#dbb973'\n",
    "    # Subsetting data.\n",
    "    dist1 = data.isel(year = slice(0,21)).sel(\n",
    "        phase = phase,lon = slice(110, 135), lat = slice(-25,-10)).precip.values.flatten()\n",
    "    dist2 = data.isel(year = slice(22,43)).sel(\n",
    "        phase = phase,lon = slice(110, 135), lat = slice(-25,-10)).precip.values.flatten()\n",
    "    # Bins\n",
    "    bins = np.arange(5,xmax,step)\n",
    "    # First data slice\n",
    "    hist_dat1 = ax.hist(dist1, bins = bins, color = brown,\n",
    "            alpha = 0.7, zorder = 0, label = '1975 to 1995'\n",
    "    #         , density = True\n",
    "            );\n",
    "    # Second data slice\n",
    "    hist_dat2 = ax.hist(dist2, bins = bins, \n",
    "             color = green,alpha = 0.6,zorder = 1, label = '1996 to 2016'\n",
    "    #         , density = True\n",
    "            );\n",
    "    # Xlims\n",
    "    ax.set_xlim(5,xmax)\n",
    "    # Legend\n",
    "    leg = ax.legend(fontsize = 12)\n",
    "    #Spines\n",
    "    ax.spines['top'].set_visible(False)\n",
    "    ax.spines['right'].set_visible(False)\n",
    "    # Labels\n",
    "    ax.set_ylabel('Frequency', size = 10);\n",
    "    ax.set_xlabel(xlabel, size = 10);\n",
    "    ax.set_title(title, size = 15);\n",
    "    \n",
    "    return hist_dat1, hist_dat2"
   ]
  },
  {
   "cell_type": "code",
   "execution_count": null,
   "metadata": {},
   "outputs": [],
   "source": [
    "fig = plt.figure(figsize = (10,6))\n",
    "gs = gridspec.GridSpec(2,1, hspace = 0.4)\n",
    "phase = 'enhanced'\n",
    "\n",
    "ax1 = fig.add_subplot(gs[0])\n",
    "sum_dat1, sum_dat2 = plot_hist(ax1,awap_sum_sub, phase, xmax = 800, step = 10,\n",
    "          title = 'Rainfall (mm)', xlabel = 'Rainfall (mm)')\n",
    "\n",
    "ax2 = fig.add_subplot(gs[1])\n",
    "count_dat1, count_dat2 = plot_hist(ax2,awap_count_sub, phase,xmax = 70, step = 1,\n",
    "          title = 'Number of Raindays', xlabel = 'Number of Raindays')\n",
    "\n",
    "fig.suptitle('{} Phase'.format(phase.capitalize()), fontsize = 15);\n",
    "# fig.savefig('../images/mjo_and_rainfall_trend_images/rainfall_enhanced_phase_pdf_BrBG.png', dpi = 600)"
   ]
  },
  {
   "cell_type": "code",
   "execution_count": null,
   "metadata": {},
   "outputs": [],
   "source": [
    "mapTrend = reload(mapTrend)\n",
    "\n",
    "mapTrend.trend_plot_combined_single_phase(merged_count_sum.sel(phase = 'enhanced'),\n",
    "                             stip_data = stip_count_sum.sel(phase = 'enhanced'), vmax = 35, step = 5,\n",
    "                       title = 'merged_count_sum_enhanced_BrBG', colorbar_title = 'Percent Per Decade',\n",
    "                                    phase = 'enhanced', cmap = 'BrBG'\n",
    "#                        ,savedir = image_dir\n",
    "                       )"
   ]
  },
  {
   "cell_type": "code",
   "execution_count": null,
   "metadata": {},
   "outputs": [],
   "source": [
    "merged_count_sum.sel(phase = 'enhanced').count"
   ]
  },
  {
   "cell_type": "code",
   "execution_count": null,
   "metadata": {},
   "outputs": [],
   "source": [
    "# fig  = plt.figure(figsize = (10,10))\n",
    "# gs = gridspec.GridSpec(2,1, height_ratios = [0.1, 1], hspace = 0.1)\n",
    "mapTrend = reload(mapTrend)\n",
    "\n",
    "fig, gs = pf.fig_formatter(height_ratios = [1,1,.7,.7], width_ratios = [1, .1], \n",
    "                           hspace = 0.4, wspace = 0.2)\n",
    "\n",
    "\n",
    "vmax = 35\n",
    "vmin = -vmax\n",
    "step = 5\n",
    "cmapi = 'BrBG'\n",
    "\n",
    "cmap, levels = pf.colorbar_creater(vmax, step, cmap = cmapi,vmin = vmin, add_white = 1,extender = 1)\n",
    "\n",
    "ax = fig.add_subplot(gs[0,0], projection = ccrs.PlateCarree())\n",
    "\n",
    "# ax, data, cmap, levels, stip_data = None\n",
    "plot = mapTrend.trend_plot_single(ax,\n",
    "                            merged_count_sum.sel(phase = 'enhanced')['count'],\n",
    "                          cmap, levels, stip_data = stip_count_sum.sel(phase = 'enhanced')['count'])\n",
    "ax.set_title('Number of Raindays', size = 15);\n",
    "ax.annotate('a)', xy = (0.01,1.05), xycoords = 'axes fraction', size = 15)\n",
    "\n",
    "\n",
    "cax = plt.subplot(gs[:2,1])\n",
    "ticks = np.core.defchararray.add(levels.astype(str)  , np.tile('%',len(levels)))\n",
    "pf.create_colorbar(plot, cax, levels, \n",
    "                   ticks = ticks,\n",
    "                   cbar_title =  \"Trend\\n(Percent Per Decade)\",\n",
    "                  cbar_titleSize = 12, orientation = 'vertical', rotation = 0)\n",
    "\n",
    "\n",
    "###### Second Plot\n",
    "ax = fig.add_subplot(gs[1,0], projection = ccrs.PlateCarree())\n",
    "plot = mapTrend.trend_plot_single(ax,\n",
    "                merged_count_sum.sel(phase = 'enhanced')['sum'],\n",
    "              cmap, levels, stip_data = stip_count_sum.sel(phase = 'enhanced')['sum'])\n",
    "\n",
    "ax.set_title('Rainfall', size = 15);\n",
    "ax.annotate('b)', xy = (0.01,1.05), xycoords = 'axes fraction', size = 15)\n",
    "\n",
    "#### Adding in PDF's\n",
    "\n",
    "\n",
    "phase = 'enhanced'\n",
    "\n",
    "\n",
    "\n",
    "ax2 = fig.add_subplot(gs[2,:])\n",
    "count_dat1, count_dat2 = plot_hist(ax2,awap_count_sub, phase,xmax = 70, step = 1,\n",
    "          title = 'Number of Raindays', xlabel = 'Number of Raindays')\n",
    "ax2.annotate('c)', xy = (0.01,1.05), xycoords = 'axes fraction', size = 15)\n",
    "\n",
    "\n",
    "ax1 = fig.add_subplot(gs[3,:])\n",
    "sum_dat1, sum_dat2 = plot_hist(ax1,awap_sum_sub, phase, xmax = 800, step = 10,\n",
    "          title = 'Rainfall (mm)', xlabel = 'Rainfall (mm)')\n",
    "ax1.annotate('d)', xy = (0.01,1.05), xycoords = 'axes fraction', size = 15)\n",
    "\n",
    "\n",
    "# fig.savefig('../images/mjo_and_rainfall_trend_images/percent_trend_and_pdf.png', dpi = 600\n",
    "#            ,bbox_inches = 'tight', pad = 0)"
   ]
  },
  {
   "cell_type": "code",
   "execution_count": null,
   "metadata": {
    "jupyter": {
     "source_hidden": true
    }
   },
   "outputs": [],
   "source": [
    "def plot_hist(ax,data, phase, xmax = 700, step = 1, title = '', xlabel = ''):\n",
    "    \n",
    "    \n",
    "    green = '#44a198'\n",
    "    brown = '#c38e3f'#'#dbb973'\n",
    "    # Subsetting data.\n",
    "    dist1 = data.isel(year = slice(0,21)).sel(\n",
    "        phase = phase,lon = slice(110, 135), lat = slice(-25,-10)).precip.values.flatten()\n",
    "    dist2 = data.isel(year = slice(22,43)).sel(\n",
    "        phase = phase,lon = slice(110, 135), lat = slice(-25,-10)).precip.values.flatten()\n",
    "    # Bins\n",
    "    bins = np.arange(5,xmax,step)\n",
    "    # First data slice\n",
    "    hist_dat1 = ax.hist(dist1, bins = bins, color = brown,\n",
    "            alpha = 0.7, zorder = 0, label = '1975 to 1995'\n",
    "    #         , density = True\n",
    "            );\n",
    "    # Second data slice\n",
    "    hist_dat2 = ax.hist(dist2, bins = bins, \n",
    "             color = green,alpha = 0.6,zorder = 1, label = '1996 to 2016'\n",
    "    #         , density = True\n",
    "            );\n",
    "    # Xlims\n",
    "    ax.set_xlim(5,xmax)\n",
    "    # Legend\n",
    "    leg = ax.legend(fontsize = 12, loc='center left', bbox_to_anchor=(1.06, 0.5))\n",
    "    #Spines\n",
    "    ax.spines['top'].set_visible(False)\n",
    "    ax.spines['right'].set_visible(False)\n",
    "    # Labels\n",
    "    ax.set_ylabel('Frequency', size = 10);\n",
    "    ax.set_xlabel(xlabel, size = 10);\n",
    "    ax.set_title(title, size = 15);\n",
    "    \n",
    "    return hist_dat1, hist_dat2"
   ]
  },
  {
   "cell_type": "code",
   "execution_count": null,
   "metadata": {},
   "outputs": [],
   "source": [
    "# fig  = plt.figure(figsize = (10,10))\n",
    "# gs = gridspec.GridSpec(2,1, height_ratios = [0.1, 1], hspace = 0.1)\n",
    "mapTrend = reload(mapTrend)\n",
    "pf = reload(pf)\n",
    "fig, gs = pf.fig_formatter(height_ratios = [1,.55,1,.55], width_ratios = [1, .1], \n",
    "                           hspace = 0.2, wspace = 0.2)\n",
    "\n",
    "\n",
    "vmax = 35\n",
    "vmin = -vmax\n",
    "step = 5\n",
    "cmapi = 'BrBG'\n",
    "\n",
    "cmap, levels = pf.colorbar_creater(vmax, step, cmap = cmapi,vmin = vmin, add_white = 1,extender = 1)\n",
    "\n",
    "ax = fig.add_subplot(gs[0,0], projection = ccrs.PlateCarree())\n",
    "\n",
    "# ax, data, cmap, levels, stip_data = None\n",
    "plot = mapTrend.trend_plot_single(ax,\n",
    "                            merged_count_sum.sel(phase = 'enhanced')['count'],\n",
    "                          cmap, levels, stip_data = stip_count_sum.sel(phase = 'enhanced')['count'])\n",
    "ax.set_title('Number of Raindays', size = 15);\n",
    "ax.annotate('a)', xy = (0.01,1.05), xycoords = 'axes fraction', size = 15)\n",
    "\n",
    "\n",
    "cax = plt.subplot(gs[0,1])\n",
    "ticks = np.core.defchararray.add(levels.astype(str)  , np.tile('%',len(levels)))\n",
    "# ticks[::2] = ''\n",
    "pf.create_colorbar(plot, cax, levels, \n",
    "                   ticks = ticks[::2],\n",
    "                   cbar_title =  \"Trend\\n(Percent Per Decade)\",\n",
    "                  cbar_titleSize = 12, orientation = 'vertical', rotation = 0)\n",
    "\n",
    "\n",
    "###### Second Plot\n",
    "ax = fig.add_subplot(gs[2,0], projection = ccrs.PlateCarree())\n",
    "plot = mapTrend.trend_plot_single(ax,\n",
    "                merged_count_sum.sel(phase = 'enhanced')['sum'],\n",
    "              cmap, levels, stip_data = stip_count_sum.sel(phase = 'enhanced')['sum'])\n",
    "\n",
    "ax.set_title('Rainfall', size = 15);\n",
    "ax.annotate('c)', xy = (0.01,1.05), xycoords = 'axes fraction', size = 15)\n",
    "\n",
    "\n",
    "cax = plt.subplot(gs[2,1])\n",
    "ticks = np.core.defchararray.add(levels.astype(str)  , np.tile('%',len(levels)))\n",
    "# ticks[::2] = ''\n",
    "pf.create_colorbar(plot, cax, levels, \n",
    "                   ticks = ticks[::2],\n",
    "                   cbar_title =  \"Trend\\n(Percent Per Decade)\",\n",
    "                  cbar_titleSize = 12, orientation = 'vertical', rotation = 0)\n",
    "\n",
    "\n",
    "#### Adding in PDF's\n",
    "\n",
    "\n",
    "phase = 'enhanced'\n",
    "\n",
    "ax2 = fig.add_subplot(gs[1,0])\n",
    "count_dat1, count_dat2 = plot_hist(ax2,awap_count_sub, phase,xmax = 70, step = 1,\n",
    "          title = '', xlabel = 'Number of Raindays')\n",
    "ax2.annotate('b)', xy = (0.01,1.05), xycoords = 'axes fraction', size = 15)\n",
    "\n",
    "\n",
    "ax1 = fig.add_subplot(gs[3,0])\n",
    "sum_dat1, sum_dat2 = plot_hist(ax1,awap_sum_sub, phase, xmax = 800, step = 10,\n",
    "          title = '', xlabel = 'Rainfall (mm)')\n",
    "ax1.annotate('d)', xy = (0.01,1.05), xycoords = 'axes fraction', size = 15);\n",
    "\n",
    "# fig.savefig('../images/mjo_and_rainfall_trend_images/percent_trend_and_pdf_ordered.png', dpi = 600\n",
    "#            ,bbox_inches = 'tight', pad = 0)"
   ]
  },
  {
   "cell_type": "code",
   "execution_count": null,
   "metadata": {},
   "outputs": [],
   "source": [
    "# fig  = plt.figure(figsize = (10,10))\n",
    "# gs = gridspec.GridSpec(2,1, height_ratios = [0.1, 1], hspace = 0.1)\n",
    "mapTrend = reload(mapTrend)\n",
    "\n",
    "fig, gs = pf.fig_formatter(height_ratios = [1,1,.7,.7], width_ratios = [1, .1], \n",
    "                           hspace = 0.4, wspace = 0.2)\n",
    "\n",
    "\n",
    "vmax = 35\n",
    "vmin = -vmax\n",
    "step = 5\n",
    "cmapi = 'BrBG'\n",
    "\n",
    "cmap, levels = pf.colorbar_creater(vmax, step, cmap = cmapi,vmin = vmin, add_white = 1,extender = 1)\n",
    "\n",
    "ax = fig.add_subplot(gs[0,0], projection = ccrs.PlateCarree())\n",
    "\n",
    "# ax, data, cmap, levels, stip_data = None\n",
    "plot = mapTrend.trend_plot_single(ax,\n",
    "                            merged_count_sum_norm.sel(phase = 'enhanced')['count'],\n",
    "                          cmap, levels, stip_data = stip_count_sum_norm.sel(phase = 'enhanced')['count'])\n",
    "ax.set_title('Number of Raindays/Number of Days', size = 15);\n",
    "ax.annotate('a)', xy = (0.01,1.05), xycoords = 'axes fraction', size = 15)\n",
    "\n",
    "\n",
    "cax = plt.subplot(gs[:2,1])\n",
    "ticks = np.core.defchararray.add(levels.astype(str)  , np.tile('%',len(levels)))\n",
    "pf.create_colorbar(plot, cax, levels, \n",
    "                   ticks = ticks[::2],\n",
    "                   cbar_title =  \"Trend\\n(Percent Per Decade)\",\n",
    "                  cbar_titleSize = 12, orientation = 'vertical', rotation = 0)\n",
    "\n",
    "\n",
    "###### Second Plot\n",
    "ax = fig.add_subplot(gs[1,0], projection = ccrs.PlateCarree())\n",
    "plot = mapTrend.trend_plot_single(ax,\n",
    "                merged_count_sum_norm.sel(phase = 'enhanced')['sum'],\n",
    "              cmap, levels, stip_data = stip_count_sum_norm.sel(phase = 'enhanced')['sum'])\n",
    "\n",
    "ax.set_title('Rainfall/Day', size = 15);\n",
    "ax.annotate('b)', xy = (0.01,1.05), xycoords = 'axes fraction', size = 15);\n",
    "\n",
    "# fig.savefig('../images/mjo_and_rainfall_trend_images/percent_trend_norm_less_ticks.png', dpi = 600\n",
    "#            ,bbox_inches = 'tight', pad = 0)"
   ]
  }
 ],
 "metadata": {
  "kernelspec": {
   "display_name": "Python 3 (ipykernel)",
   "language": "python",
   "name": "python3"
  },
  "language_info": {
   "codemirror_mode": {
    "name": "ipython",
    "version": 3
   },
   "file_extension": ".py",
   "mimetype": "text/x-python",
   "name": "python",
   "nbconvert_exporter": "python",
   "pygments_lexer": "ipython3",
   "version": "3.9.12"
  }
 },
 "nbformat": 4,
 "nbformat_minor": 4
}
